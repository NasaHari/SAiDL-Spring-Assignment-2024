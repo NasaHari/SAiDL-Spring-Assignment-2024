{
  "metadata": {
    "accelerator": "GPU",
    "colab": {
      "provenance": []
    },
    "kernelspec": {
      "display_name": "Python 3",
      "language": "python",
      "name": "python3"
    },
    "language_info": {
      "name": "python",
      "version": "3.10.13",
      "mimetype": "text/x-python",
      "codemirror_mode": {
        "name": "ipython",
        "version": 3
      },
      "pygments_lexer": "ipython3",
      "nbconvert_exporter": "python",
      "file_extension": ".py"
    },
    "kaggle": {
      "accelerator": "gpu",
      "dataSources": [
        {
          "sourceId": 7697512,
          "sourceType": "datasetVersion",
          "datasetId": 4492867
        }
      ],
      "dockerImageVersionId": 30648,
      "isInternetEnabled": true,
      "language": "python",
      "sourceType": "notebook",
      "isGpuEnabled": true
    },
    "widgets": {
      "application/vnd.jupyter.widget-state+json": {
        "4d43c91cd1fa4802a0151976d25ddc52": {
          "model_module": "@jupyter-widgets/controls",
          "model_name": "HBoxModel",
          "model_module_version": "1.5.0",
          "state": {
            "_dom_classes": [],
            "_model_module": "@jupyter-widgets/controls",
            "_model_module_version": "1.5.0",
            "_model_name": "HBoxModel",
            "_view_count": null,
            "_view_module": "@jupyter-widgets/controls",
            "_view_module_version": "1.5.0",
            "_view_name": "HBoxView",
            "box_style": "",
            "children": [
              "IPY_MODEL_d786680c8ee94041bca7178780306fce",
              "IPY_MODEL_a3d014a47d20490b8c6fd207bd475e94",
              "IPY_MODEL_b0751275f9624947ae10f6051afe34ee"
            ],
            "layout": "IPY_MODEL_7d1c8711b33b42a290f0ab2954bfe8cd"
          }
        },
        "d786680c8ee94041bca7178780306fce": {
          "model_module": "@jupyter-widgets/controls",
          "model_name": "HTMLModel",
          "model_module_version": "1.5.0",
          "state": {
            "_dom_classes": [],
            "_model_module": "@jupyter-widgets/controls",
            "_model_module_version": "1.5.0",
            "_model_name": "HTMLModel",
            "_view_count": null,
            "_view_module": "@jupyter-widgets/controls",
            "_view_module_version": "1.5.0",
            "_view_name": "HTMLView",
            "description": "",
            "description_tooltip": null,
            "layout": "IPY_MODEL_25aefc08d7fd435cb89d6d13b52648c2",
            "placeholder": "​",
            "style": "IPY_MODEL_c2b6927f557f402891dc1f88bb243211",
            "value": "scanning 0/10 weight - conv1.0.weight: 100%"
          }
        },
        "a3d014a47d20490b8c6fd207bd475e94": {
          "model_module": "@jupyter-widgets/controls",
          "model_name": "FloatProgressModel",
          "model_module_version": "1.5.0",
          "state": {
            "_dom_classes": [],
            "_model_module": "@jupyter-widgets/controls",
            "_model_module_version": "1.5.0",
            "_model_name": "FloatProgressModel",
            "_view_count": null,
            "_view_module": "@jupyter-widgets/controls",
            "_view_module_version": "1.5.0",
            "_view_name": "ProgressView",
            "bar_style": "success",
            "description": "",
            "description_tooltip": null,
            "layout": "IPY_MODEL_ae4651f8b5094da4a1be1bfa40e3f6f6",
            "max": 7,
            "min": 0,
            "orientation": "horizontal",
            "style": "IPY_MODEL_c12ff9c4cca045b5a2a470878cbd66f3",
            "value": 7
          }
        },
        "b0751275f9624947ae10f6051afe34ee": {
          "model_module": "@jupyter-widgets/controls",
          "model_name": "HTMLModel",
          "model_module_version": "1.5.0",
          "state": {
            "_dom_classes": [],
            "_model_module": "@jupyter-widgets/controls",
            "_model_module_version": "1.5.0",
            "_model_name": "HTMLModel",
            "_view_count": null,
            "_view_module": "@jupyter-widgets/controls",
            "_view_module_version": "1.5.0",
            "_view_name": "HTMLView",
            "description": "",
            "description_tooltip": null,
            "layout": "IPY_MODEL_81f6dc7150494ed786fb9ee32aa9a6b4",
            "placeholder": "​",
            "style": "IPY_MODEL_15e11584228043b59c7147b94fbb8388",
            "value": " 7/7 [00:40&lt;00:00,  5.40s/it]"
          }
        },
        "7d1c8711b33b42a290f0ab2954bfe8cd": {
          "model_module": "@jupyter-widgets/base",
          "model_name": "LayoutModel",
          "model_module_version": "1.2.0",
          "state": {
            "_model_module": "@jupyter-widgets/base",
            "_model_module_version": "1.2.0",
            "_model_name": "LayoutModel",
            "_view_count": null,
            "_view_module": "@jupyter-widgets/base",
            "_view_module_version": "1.2.0",
            "_view_name": "LayoutView",
            "align_content": null,
            "align_items": null,
            "align_self": null,
            "border": null,
            "bottom": null,
            "display": null,
            "flex": null,
            "flex_flow": null,
            "grid_area": null,
            "grid_auto_columns": null,
            "grid_auto_flow": null,
            "grid_auto_rows": null,
            "grid_column": null,
            "grid_gap": null,
            "grid_row": null,
            "grid_template_areas": null,
            "grid_template_columns": null,
            "grid_template_rows": null,
            "height": null,
            "justify_content": null,
            "justify_items": null,
            "left": null,
            "margin": null,
            "max_height": null,
            "max_width": null,
            "min_height": null,
            "min_width": null,
            "object_fit": null,
            "object_position": null,
            "order": null,
            "overflow": null,
            "overflow_x": null,
            "overflow_y": null,
            "padding": null,
            "right": null,
            "top": null,
            "visibility": null,
            "width": null
          }
        },
        "25aefc08d7fd435cb89d6d13b52648c2": {
          "model_module": "@jupyter-widgets/base",
          "model_name": "LayoutModel",
          "model_module_version": "1.2.0",
          "state": {
            "_model_module": "@jupyter-widgets/base",
            "_model_module_version": "1.2.0",
            "_model_name": "LayoutModel",
            "_view_count": null,
            "_view_module": "@jupyter-widgets/base",
            "_view_module_version": "1.2.0",
            "_view_name": "LayoutView",
            "align_content": null,
            "align_items": null,
            "align_self": null,
            "border": null,
            "bottom": null,
            "display": null,
            "flex": null,
            "flex_flow": null,
            "grid_area": null,
            "grid_auto_columns": null,
            "grid_auto_flow": null,
            "grid_auto_rows": null,
            "grid_column": null,
            "grid_gap": null,
            "grid_row": null,
            "grid_template_areas": null,
            "grid_template_columns": null,
            "grid_template_rows": null,
            "height": null,
            "justify_content": null,
            "justify_items": null,
            "left": null,
            "margin": null,
            "max_height": null,
            "max_width": null,
            "min_height": null,
            "min_width": null,
            "object_fit": null,
            "object_position": null,
            "order": null,
            "overflow": null,
            "overflow_x": null,
            "overflow_y": null,
            "padding": null,
            "right": null,
            "top": null,
            "visibility": null,
            "width": null
          }
        },
        "c2b6927f557f402891dc1f88bb243211": {
          "model_module": "@jupyter-widgets/controls",
          "model_name": "DescriptionStyleModel",
          "model_module_version": "1.5.0",
          "state": {
            "_model_module": "@jupyter-widgets/controls",
            "_model_module_version": "1.5.0",
            "_model_name": "DescriptionStyleModel",
            "_view_count": null,
            "_view_module": "@jupyter-widgets/base",
            "_view_module_version": "1.2.0",
            "_view_name": "StyleView",
            "description_width": ""
          }
        },
        "ae4651f8b5094da4a1be1bfa40e3f6f6": {
          "model_module": "@jupyter-widgets/base",
          "model_name": "LayoutModel",
          "model_module_version": "1.2.0",
          "state": {
            "_model_module": "@jupyter-widgets/base",
            "_model_module_version": "1.2.0",
            "_model_name": "LayoutModel",
            "_view_count": null,
            "_view_module": "@jupyter-widgets/base",
            "_view_module_version": "1.2.0",
            "_view_name": "LayoutView",
            "align_content": null,
            "align_items": null,
            "align_self": null,
            "border": null,
            "bottom": null,
            "display": null,
            "flex": null,
            "flex_flow": null,
            "grid_area": null,
            "grid_auto_columns": null,
            "grid_auto_flow": null,
            "grid_auto_rows": null,
            "grid_column": null,
            "grid_gap": null,
            "grid_row": null,
            "grid_template_areas": null,
            "grid_template_columns": null,
            "grid_template_rows": null,
            "height": null,
            "justify_content": null,
            "justify_items": null,
            "left": null,
            "margin": null,
            "max_height": null,
            "max_width": null,
            "min_height": null,
            "min_width": null,
            "object_fit": null,
            "object_position": null,
            "order": null,
            "overflow": null,
            "overflow_x": null,
            "overflow_y": null,
            "padding": null,
            "right": null,
            "top": null,
            "visibility": null,
            "width": null
          }
        },
        "c12ff9c4cca045b5a2a470878cbd66f3": {
          "model_module": "@jupyter-widgets/controls",
          "model_name": "ProgressStyleModel",
          "model_module_version": "1.5.0",
          "state": {
            "_model_module": "@jupyter-widgets/controls",
            "_model_module_version": "1.5.0",
            "_model_name": "ProgressStyleModel",
            "_view_count": null,
            "_view_module": "@jupyter-widgets/base",
            "_view_module_version": "1.2.0",
            "_view_name": "StyleView",
            "bar_color": null,
            "description_width": ""
          }
        },
        "81f6dc7150494ed786fb9ee32aa9a6b4": {
          "model_module": "@jupyter-widgets/base",
          "model_name": "LayoutModel",
          "model_module_version": "1.2.0",
          "state": {
            "_model_module": "@jupyter-widgets/base",
            "_model_module_version": "1.2.0",
            "_model_name": "LayoutModel",
            "_view_count": null,
            "_view_module": "@jupyter-widgets/base",
            "_view_module_version": "1.2.0",
            "_view_name": "LayoutView",
            "align_content": null,
            "align_items": null,
            "align_self": null,
            "border": null,
            "bottom": null,
            "display": null,
            "flex": null,
            "flex_flow": null,
            "grid_area": null,
            "grid_auto_columns": null,
            "grid_auto_flow": null,
            "grid_auto_rows": null,
            "grid_column": null,
            "grid_gap": null,
            "grid_row": null,
            "grid_template_areas": null,
            "grid_template_columns": null,
            "grid_template_rows": null,
            "height": null,
            "justify_content": null,
            "justify_items": null,
            "left": null,
            "margin": null,
            "max_height": null,
            "max_width": null,
            "min_height": null,
            "min_width": null,
            "object_fit": null,
            "object_position": null,
            "order": null,
            "overflow": null,
            "overflow_x": null,
            "overflow_y": null,
            "padding": null,
            "right": null,
            "top": null,
            "visibility": null,
            "width": null
          }
        },
        "15e11584228043b59c7147b94fbb8388": {
          "model_module": "@jupyter-widgets/controls",
          "model_name": "DescriptionStyleModel",
          "model_module_version": "1.5.0",
          "state": {
            "_model_module": "@jupyter-widgets/controls",
            "_model_module_version": "1.5.0",
            "_model_name": "DescriptionStyleModel",
            "_view_count": null,
            "_view_module": "@jupyter-widgets/base",
            "_view_module_version": "1.2.0",
            "_view_name": "StyleView",
            "description_width": ""
          }
        },
        "d1cfa7384bcb44c7887eef599cc98a99": {
          "model_module": "@jupyter-widgets/controls",
          "model_name": "HBoxModel",
          "model_module_version": "1.5.0",
          "state": {
            "_dom_classes": [],
            "_model_module": "@jupyter-widgets/controls",
            "_model_module_version": "1.5.0",
            "_model_name": "HBoxModel",
            "_view_count": null,
            "_view_module": "@jupyter-widgets/controls",
            "_view_module_version": "1.5.0",
            "_view_name": "HBoxView",
            "box_style": "",
            "children": [
              "IPY_MODEL_feb75af974ac45578711b861f9d1bd47",
              "IPY_MODEL_629c246307c74240ad0102e736ed4f5d",
              "IPY_MODEL_661b5fc182f74f3eb087449554b44849"
            ],
            "layout": "IPY_MODEL_319b43cb304a40bc91ba2aff80221e37"
          }
        },
        "feb75af974ac45578711b861f9d1bd47": {
          "model_module": "@jupyter-widgets/controls",
          "model_name": "HTMLModel",
          "model_module_version": "1.5.0",
          "state": {
            "_dom_classes": [],
            "_model_module": "@jupyter-widgets/controls",
            "_model_module_version": "1.5.0",
            "_model_name": "HTMLModel",
            "_view_count": null,
            "_view_module": "@jupyter-widgets/controls",
            "_view_module_version": "1.5.0",
            "_view_name": "HTMLView",
            "description": "",
            "description_tooltip": null,
            "layout": "IPY_MODEL_a6e758077d114687b3b997337b3adfb4",
            "placeholder": "​",
            "style": "IPY_MODEL_ae3e5b20d8b14786a0055346768dceed",
            "value": "scanning 1/10 weight - conv2.0.weight: 100%"
          }
        },
        "629c246307c74240ad0102e736ed4f5d": {
          "model_module": "@jupyter-widgets/controls",
          "model_name": "FloatProgressModel",
          "model_module_version": "1.5.0",
          "state": {
            "_dom_classes": [],
            "_model_module": "@jupyter-widgets/controls",
            "_model_module_version": "1.5.0",
            "_model_name": "FloatProgressModel",
            "_view_count": null,
            "_view_module": "@jupyter-widgets/controls",
            "_view_module_version": "1.5.0",
            "_view_name": "ProgressView",
            "bar_style": "success",
            "description": "",
            "description_tooltip": null,
            "layout": "IPY_MODEL_345cb5f4722e41ad889cdae996233ccd",
            "max": 7,
            "min": 0,
            "orientation": "horizontal",
            "style": "IPY_MODEL_3ac423d1ef9745eba84cbdac7138991a",
            "value": 7
          }
        },
        "661b5fc182f74f3eb087449554b44849": {
          "model_module": "@jupyter-widgets/controls",
          "model_name": "HTMLModel",
          "model_module_version": "1.5.0",
          "state": {
            "_dom_classes": [],
            "_model_module": "@jupyter-widgets/controls",
            "_model_module_version": "1.5.0",
            "_model_name": "HTMLModel",
            "_view_count": null,
            "_view_module": "@jupyter-widgets/controls",
            "_view_module_version": "1.5.0",
            "_view_name": "HTMLView",
            "description": "",
            "description_tooltip": null,
            "layout": "IPY_MODEL_d8dfd2599cfa4f21b6fce1cf9d0a7f43",
            "placeholder": "​",
            "style": "IPY_MODEL_1d87f35c752a4debb4c09544495c557f",
            "value": " 7/7 [00:37&lt;00:00,  5.23s/it]"
          }
        },
        "319b43cb304a40bc91ba2aff80221e37": {
          "model_module": "@jupyter-widgets/base",
          "model_name": "LayoutModel",
          "model_module_version": "1.2.0",
          "state": {
            "_model_module": "@jupyter-widgets/base",
            "_model_module_version": "1.2.0",
            "_model_name": "LayoutModel",
            "_view_count": null,
            "_view_module": "@jupyter-widgets/base",
            "_view_module_version": "1.2.0",
            "_view_name": "LayoutView",
            "align_content": null,
            "align_items": null,
            "align_self": null,
            "border": null,
            "bottom": null,
            "display": null,
            "flex": null,
            "flex_flow": null,
            "grid_area": null,
            "grid_auto_columns": null,
            "grid_auto_flow": null,
            "grid_auto_rows": null,
            "grid_column": null,
            "grid_gap": null,
            "grid_row": null,
            "grid_template_areas": null,
            "grid_template_columns": null,
            "grid_template_rows": null,
            "height": null,
            "justify_content": null,
            "justify_items": null,
            "left": null,
            "margin": null,
            "max_height": null,
            "max_width": null,
            "min_height": null,
            "min_width": null,
            "object_fit": null,
            "object_position": null,
            "order": null,
            "overflow": null,
            "overflow_x": null,
            "overflow_y": null,
            "padding": null,
            "right": null,
            "top": null,
            "visibility": null,
            "width": null
          }
        },
        "a6e758077d114687b3b997337b3adfb4": {
          "model_module": "@jupyter-widgets/base",
          "model_name": "LayoutModel",
          "model_module_version": "1.2.0",
          "state": {
            "_model_module": "@jupyter-widgets/base",
            "_model_module_version": "1.2.0",
            "_model_name": "LayoutModel",
            "_view_count": null,
            "_view_module": "@jupyter-widgets/base",
            "_view_module_version": "1.2.0",
            "_view_name": "LayoutView",
            "align_content": null,
            "align_items": null,
            "align_self": null,
            "border": null,
            "bottom": null,
            "display": null,
            "flex": null,
            "flex_flow": null,
            "grid_area": null,
            "grid_auto_columns": null,
            "grid_auto_flow": null,
            "grid_auto_rows": null,
            "grid_column": null,
            "grid_gap": null,
            "grid_row": null,
            "grid_template_areas": null,
            "grid_template_columns": null,
            "grid_template_rows": null,
            "height": null,
            "justify_content": null,
            "justify_items": null,
            "left": null,
            "margin": null,
            "max_height": null,
            "max_width": null,
            "min_height": null,
            "min_width": null,
            "object_fit": null,
            "object_position": null,
            "order": null,
            "overflow": null,
            "overflow_x": null,
            "overflow_y": null,
            "padding": null,
            "right": null,
            "top": null,
            "visibility": null,
            "width": null
          }
        },
        "ae3e5b20d8b14786a0055346768dceed": {
          "model_module": "@jupyter-widgets/controls",
          "model_name": "DescriptionStyleModel",
          "model_module_version": "1.5.0",
          "state": {
            "_model_module": "@jupyter-widgets/controls",
            "_model_module_version": "1.5.0",
            "_model_name": "DescriptionStyleModel",
            "_view_count": null,
            "_view_module": "@jupyter-widgets/base",
            "_view_module_version": "1.2.0",
            "_view_name": "StyleView",
            "description_width": ""
          }
        },
        "345cb5f4722e41ad889cdae996233ccd": {
          "model_module": "@jupyter-widgets/base",
          "model_name": "LayoutModel",
          "model_module_version": "1.2.0",
          "state": {
            "_model_module": "@jupyter-widgets/base",
            "_model_module_version": "1.2.0",
            "_model_name": "LayoutModel",
            "_view_count": null,
            "_view_module": "@jupyter-widgets/base",
            "_view_module_version": "1.2.0",
            "_view_name": "LayoutView",
            "align_content": null,
            "align_items": null,
            "align_self": null,
            "border": null,
            "bottom": null,
            "display": null,
            "flex": null,
            "flex_flow": null,
            "grid_area": null,
            "grid_auto_columns": null,
            "grid_auto_flow": null,
            "grid_auto_rows": null,
            "grid_column": null,
            "grid_gap": null,
            "grid_row": null,
            "grid_template_areas": null,
            "grid_template_columns": null,
            "grid_template_rows": null,
            "height": null,
            "justify_content": null,
            "justify_items": null,
            "left": null,
            "margin": null,
            "max_height": null,
            "max_width": null,
            "min_height": null,
            "min_width": null,
            "object_fit": null,
            "object_position": null,
            "order": null,
            "overflow": null,
            "overflow_x": null,
            "overflow_y": null,
            "padding": null,
            "right": null,
            "top": null,
            "visibility": null,
            "width": null
          }
        },
        "3ac423d1ef9745eba84cbdac7138991a": {
          "model_module": "@jupyter-widgets/controls",
          "model_name": "ProgressStyleModel",
          "model_module_version": "1.5.0",
          "state": {
            "_model_module": "@jupyter-widgets/controls",
            "_model_module_version": "1.5.0",
            "_model_name": "ProgressStyleModel",
            "_view_count": null,
            "_view_module": "@jupyter-widgets/base",
            "_view_module_version": "1.2.0",
            "_view_name": "StyleView",
            "bar_color": null,
            "description_width": ""
          }
        },
        "d8dfd2599cfa4f21b6fce1cf9d0a7f43": {
          "model_module": "@jupyter-widgets/base",
          "model_name": "LayoutModel",
          "model_module_version": "1.2.0",
          "state": {
            "_model_module": "@jupyter-widgets/base",
            "_model_module_version": "1.2.0",
            "_model_name": "LayoutModel",
            "_view_count": null,
            "_view_module": "@jupyter-widgets/base",
            "_view_module_version": "1.2.0",
            "_view_name": "LayoutView",
            "align_content": null,
            "align_items": null,
            "align_self": null,
            "border": null,
            "bottom": null,
            "display": null,
            "flex": null,
            "flex_flow": null,
            "grid_area": null,
            "grid_auto_columns": null,
            "grid_auto_flow": null,
            "grid_auto_rows": null,
            "grid_column": null,
            "grid_gap": null,
            "grid_row": null,
            "grid_template_areas": null,
            "grid_template_columns": null,
            "grid_template_rows": null,
            "height": null,
            "justify_content": null,
            "justify_items": null,
            "left": null,
            "margin": null,
            "max_height": null,
            "max_width": null,
            "min_height": null,
            "min_width": null,
            "object_fit": null,
            "object_position": null,
            "order": null,
            "overflow": null,
            "overflow_x": null,
            "overflow_y": null,
            "padding": null,
            "right": null,
            "top": null,
            "visibility": null,
            "width": null
          }
        },
        "1d87f35c752a4debb4c09544495c557f": {
          "model_module": "@jupyter-widgets/controls",
          "model_name": "DescriptionStyleModel",
          "model_module_version": "1.5.0",
          "state": {
            "_model_module": "@jupyter-widgets/controls",
            "_model_module_version": "1.5.0",
            "_model_name": "DescriptionStyleModel",
            "_view_count": null,
            "_view_module": "@jupyter-widgets/base",
            "_view_module_version": "1.2.0",
            "_view_name": "StyleView",
            "description_width": ""
          }
        },
        "8a7b47ba66304bcda3e6aa2b99cb3387": {
          "model_module": "@jupyter-widgets/controls",
          "model_name": "HBoxModel",
          "model_module_version": "1.5.0",
          "state": {
            "_dom_classes": [],
            "_model_module": "@jupyter-widgets/controls",
            "_model_module_version": "1.5.0",
            "_model_name": "HBoxModel",
            "_view_count": null,
            "_view_module": "@jupyter-widgets/controls",
            "_view_module_version": "1.5.0",
            "_view_name": "HBoxView",
            "box_style": "",
            "children": [
              "IPY_MODEL_7cee81eab3bb4f6b9accd4b008f5c44a",
              "IPY_MODEL_f0f5bdb1a73d448880d77426bcb18d3d",
              "IPY_MODEL_430ee82dcf2e443698643fb3cfdd78bd"
            ],
            "layout": "IPY_MODEL_87845677aabd401488fcc6deb3af9be3"
          }
        },
        "7cee81eab3bb4f6b9accd4b008f5c44a": {
          "model_module": "@jupyter-widgets/controls",
          "model_name": "HTMLModel",
          "model_module_version": "1.5.0",
          "state": {
            "_dom_classes": [],
            "_model_module": "@jupyter-widgets/controls",
            "_model_module_version": "1.5.0",
            "_model_name": "HTMLModel",
            "_view_count": null,
            "_view_module": "@jupyter-widgets/controls",
            "_view_module_version": "1.5.0",
            "_view_name": "HTMLView",
            "description": "",
            "description_tooltip": null,
            "layout": "IPY_MODEL_a410f6f216554a4bbc1465ba41e6e174",
            "placeholder": "​",
            "style": "IPY_MODEL_fc62afdf7de946e9a200c3ba9c523bb2",
            "value": "scanning 2/10 weight - res1.0.0.weight: 100%"
          }
        },
        "f0f5bdb1a73d448880d77426bcb18d3d": {
          "model_module": "@jupyter-widgets/controls",
          "model_name": "FloatProgressModel",
          "model_module_version": "1.5.0",
          "state": {
            "_dom_classes": [],
            "_model_module": "@jupyter-widgets/controls",
            "_model_module_version": "1.5.0",
            "_model_name": "FloatProgressModel",
            "_view_count": null,
            "_view_module": "@jupyter-widgets/controls",
            "_view_module_version": "1.5.0",
            "_view_name": "ProgressView",
            "bar_style": "success",
            "description": "",
            "description_tooltip": null,
            "layout": "IPY_MODEL_2b42b24b7a484e69a306d24ffad8f4b9",
            "max": 7,
            "min": 0,
            "orientation": "horizontal",
            "style": "IPY_MODEL_6cabbe46ca9749a298ba6c2c1bc5c775",
            "value": 7
          }
        },
        "430ee82dcf2e443698643fb3cfdd78bd": {
          "model_module": "@jupyter-widgets/controls",
          "model_name": "HTMLModel",
          "model_module_version": "1.5.0",
          "state": {
            "_dom_classes": [],
            "_model_module": "@jupyter-widgets/controls",
            "_model_module_version": "1.5.0",
            "_model_name": "HTMLModel",
            "_view_count": null,
            "_view_module": "@jupyter-widgets/controls",
            "_view_module_version": "1.5.0",
            "_view_name": "HTMLView",
            "description": "",
            "description_tooltip": null,
            "layout": "IPY_MODEL_4434f9296a22459a95de07d96a418215",
            "placeholder": "​",
            "style": "IPY_MODEL_be218758658d4b0b9a78808633f19cf4",
            "value": " 7/7 [00:39&lt;00:00,  5.50s/it]"
          }
        },
        "87845677aabd401488fcc6deb3af9be3": {
          "model_module": "@jupyter-widgets/base",
          "model_name": "LayoutModel",
          "model_module_version": "1.2.0",
          "state": {
            "_model_module": "@jupyter-widgets/base",
            "_model_module_version": "1.2.0",
            "_model_name": "LayoutModel",
            "_view_count": null,
            "_view_module": "@jupyter-widgets/base",
            "_view_module_version": "1.2.0",
            "_view_name": "LayoutView",
            "align_content": null,
            "align_items": null,
            "align_self": null,
            "border": null,
            "bottom": null,
            "display": null,
            "flex": null,
            "flex_flow": null,
            "grid_area": null,
            "grid_auto_columns": null,
            "grid_auto_flow": null,
            "grid_auto_rows": null,
            "grid_column": null,
            "grid_gap": null,
            "grid_row": null,
            "grid_template_areas": null,
            "grid_template_columns": null,
            "grid_template_rows": null,
            "height": null,
            "justify_content": null,
            "justify_items": null,
            "left": null,
            "margin": null,
            "max_height": null,
            "max_width": null,
            "min_height": null,
            "min_width": null,
            "object_fit": null,
            "object_position": null,
            "order": null,
            "overflow": null,
            "overflow_x": null,
            "overflow_y": null,
            "padding": null,
            "right": null,
            "top": null,
            "visibility": null,
            "width": null
          }
        },
        "a410f6f216554a4bbc1465ba41e6e174": {
          "model_module": "@jupyter-widgets/base",
          "model_name": "LayoutModel",
          "model_module_version": "1.2.0",
          "state": {
            "_model_module": "@jupyter-widgets/base",
            "_model_module_version": "1.2.0",
            "_model_name": "LayoutModel",
            "_view_count": null,
            "_view_module": "@jupyter-widgets/base",
            "_view_module_version": "1.2.0",
            "_view_name": "LayoutView",
            "align_content": null,
            "align_items": null,
            "align_self": null,
            "border": null,
            "bottom": null,
            "display": null,
            "flex": null,
            "flex_flow": null,
            "grid_area": null,
            "grid_auto_columns": null,
            "grid_auto_flow": null,
            "grid_auto_rows": null,
            "grid_column": null,
            "grid_gap": null,
            "grid_row": null,
            "grid_template_areas": null,
            "grid_template_columns": null,
            "grid_template_rows": null,
            "height": null,
            "justify_content": null,
            "justify_items": null,
            "left": null,
            "margin": null,
            "max_height": null,
            "max_width": null,
            "min_height": null,
            "min_width": null,
            "object_fit": null,
            "object_position": null,
            "order": null,
            "overflow": null,
            "overflow_x": null,
            "overflow_y": null,
            "padding": null,
            "right": null,
            "top": null,
            "visibility": null,
            "width": null
          }
        },
        "fc62afdf7de946e9a200c3ba9c523bb2": {
          "model_module": "@jupyter-widgets/controls",
          "model_name": "DescriptionStyleModel",
          "model_module_version": "1.5.0",
          "state": {
            "_model_module": "@jupyter-widgets/controls",
            "_model_module_version": "1.5.0",
            "_model_name": "DescriptionStyleModel",
            "_view_count": null,
            "_view_module": "@jupyter-widgets/base",
            "_view_module_version": "1.2.0",
            "_view_name": "StyleView",
            "description_width": ""
          }
        },
        "2b42b24b7a484e69a306d24ffad8f4b9": {
          "model_module": "@jupyter-widgets/base",
          "model_name": "LayoutModel",
          "model_module_version": "1.2.0",
          "state": {
            "_model_module": "@jupyter-widgets/base",
            "_model_module_version": "1.2.0",
            "_model_name": "LayoutModel",
            "_view_count": null,
            "_view_module": "@jupyter-widgets/base",
            "_view_module_version": "1.2.0",
            "_view_name": "LayoutView",
            "align_content": null,
            "align_items": null,
            "align_self": null,
            "border": null,
            "bottom": null,
            "display": null,
            "flex": null,
            "flex_flow": null,
            "grid_area": null,
            "grid_auto_columns": null,
            "grid_auto_flow": null,
            "grid_auto_rows": null,
            "grid_column": null,
            "grid_gap": null,
            "grid_row": null,
            "grid_template_areas": null,
            "grid_template_columns": null,
            "grid_template_rows": null,
            "height": null,
            "justify_content": null,
            "justify_items": null,
            "left": null,
            "margin": null,
            "max_height": null,
            "max_width": null,
            "min_height": null,
            "min_width": null,
            "object_fit": null,
            "object_position": null,
            "order": null,
            "overflow": null,
            "overflow_x": null,
            "overflow_y": null,
            "padding": null,
            "right": null,
            "top": null,
            "visibility": null,
            "width": null
          }
        },
        "6cabbe46ca9749a298ba6c2c1bc5c775": {
          "model_module": "@jupyter-widgets/controls",
          "model_name": "ProgressStyleModel",
          "model_module_version": "1.5.0",
          "state": {
            "_model_module": "@jupyter-widgets/controls",
            "_model_module_version": "1.5.0",
            "_model_name": "ProgressStyleModel",
            "_view_count": null,
            "_view_module": "@jupyter-widgets/base",
            "_view_module_version": "1.2.0",
            "_view_name": "StyleView",
            "bar_color": null,
            "description_width": ""
          }
        },
        "4434f9296a22459a95de07d96a418215": {
          "model_module": "@jupyter-widgets/base",
          "model_name": "LayoutModel",
          "model_module_version": "1.2.0",
          "state": {
            "_model_module": "@jupyter-widgets/base",
            "_model_module_version": "1.2.0",
            "_model_name": "LayoutModel",
            "_view_count": null,
            "_view_module": "@jupyter-widgets/base",
            "_view_module_version": "1.2.0",
            "_view_name": "LayoutView",
            "align_content": null,
            "align_items": null,
            "align_self": null,
            "border": null,
            "bottom": null,
            "display": null,
            "flex": null,
            "flex_flow": null,
            "grid_area": null,
            "grid_auto_columns": null,
            "grid_auto_flow": null,
            "grid_auto_rows": null,
            "grid_column": null,
            "grid_gap": null,
            "grid_row": null,
            "grid_template_areas": null,
            "grid_template_columns": null,
            "grid_template_rows": null,
            "height": null,
            "justify_content": null,
            "justify_items": null,
            "left": null,
            "margin": null,
            "max_height": null,
            "max_width": null,
            "min_height": null,
            "min_width": null,
            "object_fit": null,
            "object_position": null,
            "order": null,
            "overflow": null,
            "overflow_x": null,
            "overflow_y": null,
            "padding": null,
            "right": null,
            "top": null,
            "visibility": null,
            "width": null
          }
        },
        "be218758658d4b0b9a78808633f19cf4": {
          "model_module": "@jupyter-widgets/controls",
          "model_name": "DescriptionStyleModel",
          "model_module_version": "1.5.0",
          "state": {
            "_model_module": "@jupyter-widgets/controls",
            "_model_module_version": "1.5.0",
            "_model_name": "DescriptionStyleModel",
            "_view_count": null,
            "_view_module": "@jupyter-widgets/base",
            "_view_module_version": "1.2.0",
            "_view_name": "StyleView",
            "description_width": ""
          }
        },
        "3253028086894483a15c8b6a4061f43a": {
          "model_module": "@jupyter-widgets/controls",
          "model_name": "HBoxModel",
          "model_module_version": "1.5.0",
          "state": {
            "_dom_classes": [],
            "_model_module": "@jupyter-widgets/controls",
            "_model_module_version": "1.5.0",
            "_model_name": "HBoxModel",
            "_view_count": null,
            "_view_module": "@jupyter-widgets/controls",
            "_view_module_version": "1.5.0",
            "_view_name": "HBoxView",
            "box_style": "",
            "children": [
              "IPY_MODEL_cc228440ffbb41c9b6e3e33f352babfd",
              "IPY_MODEL_e466e68e20ca46fca083329346658850",
              "IPY_MODEL_e22285b31d8b4d05b9cc5d6401045742"
            ],
            "layout": "IPY_MODEL_24d1fa35b10647dabd03ec6757ee38f0"
          }
        },
        "cc228440ffbb41c9b6e3e33f352babfd": {
          "model_module": "@jupyter-widgets/controls",
          "model_name": "HTMLModel",
          "model_module_version": "1.5.0",
          "state": {
            "_dom_classes": [],
            "_model_module": "@jupyter-widgets/controls",
            "_model_module_version": "1.5.0",
            "_model_name": "HTMLModel",
            "_view_count": null,
            "_view_module": "@jupyter-widgets/controls",
            "_view_module_version": "1.5.0",
            "_view_name": "HTMLView",
            "description": "",
            "description_tooltip": null,
            "layout": "IPY_MODEL_c733854ebb8f4f49aab688624258ea21",
            "placeholder": "​",
            "style": "IPY_MODEL_1cc3e83ffd644f7eb1681b9854433672",
            "value": "scanning 3/10 weight - res1.1.0.weight:  86%"
          }
        },
        "e466e68e20ca46fca083329346658850": {
          "model_module": "@jupyter-widgets/controls",
          "model_name": "FloatProgressModel",
          "model_module_version": "1.5.0",
          "state": {
            "_dom_classes": [],
            "_model_module": "@jupyter-widgets/controls",
            "_model_module_version": "1.5.0",
            "_model_name": "FloatProgressModel",
            "_view_count": null,
            "_view_module": "@jupyter-widgets/controls",
            "_view_module_version": "1.5.0",
            "_view_name": "ProgressView",
            "bar_style": "",
            "description": "",
            "description_tooltip": null,
            "layout": "IPY_MODEL_c4d53258a4f847b2b51871b447bc8ed9",
            "max": 7,
            "min": 0,
            "orientation": "horizontal",
            "style": "IPY_MODEL_b5a759df37414c8db8fe52bbbafda334",
            "value": 6
          }
        },
        "e22285b31d8b4d05b9cc5d6401045742": {
          "model_module": "@jupyter-widgets/controls",
          "model_name": "HTMLModel",
          "model_module_version": "1.5.0",
          "state": {
            "_dom_classes": [],
            "_model_module": "@jupyter-widgets/controls",
            "_model_module_version": "1.5.0",
            "_model_name": "HTMLModel",
            "_view_count": null,
            "_view_module": "@jupyter-widgets/controls",
            "_view_module_version": "1.5.0",
            "_view_name": "HTMLView",
            "description": "",
            "description_tooltip": null,
            "layout": "IPY_MODEL_d81e45d0d2cc4755b1239eb97256125c",
            "placeholder": "​",
            "style": "IPY_MODEL_7d4c41c0378b4922ac97e622c41f9994",
            "value": " 6/7 [00:32&lt;00:05,  5.47s/it]"
          }
        },
        "24d1fa35b10647dabd03ec6757ee38f0": {
          "model_module": "@jupyter-widgets/base",
          "model_name": "LayoutModel",
          "model_module_version": "1.2.0",
          "state": {
            "_model_module": "@jupyter-widgets/base",
            "_model_module_version": "1.2.0",
            "_model_name": "LayoutModel",
            "_view_count": null,
            "_view_module": "@jupyter-widgets/base",
            "_view_module_version": "1.2.0",
            "_view_name": "LayoutView",
            "align_content": null,
            "align_items": null,
            "align_self": null,
            "border": null,
            "bottom": null,
            "display": null,
            "flex": null,
            "flex_flow": null,
            "grid_area": null,
            "grid_auto_columns": null,
            "grid_auto_flow": null,
            "grid_auto_rows": null,
            "grid_column": null,
            "grid_gap": null,
            "grid_row": null,
            "grid_template_areas": null,
            "grid_template_columns": null,
            "grid_template_rows": null,
            "height": null,
            "justify_content": null,
            "justify_items": null,
            "left": null,
            "margin": null,
            "max_height": null,
            "max_width": null,
            "min_height": null,
            "min_width": null,
            "object_fit": null,
            "object_position": null,
            "order": null,
            "overflow": null,
            "overflow_x": null,
            "overflow_y": null,
            "padding": null,
            "right": null,
            "top": null,
            "visibility": null,
            "width": null
          }
        },
        "c733854ebb8f4f49aab688624258ea21": {
          "model_module": "@jupyter-widgets/base",
          "model_name": "LayoutModel",
          "model_module_version": "1.2.0",
          "state": {
            "_model_module": "@jupyter-widgets/base",
            "_model_module_version": "1.2.0",
            "_model_name": "LayoutModel",
            "_view_count": null,
            "_view_module": "@jupyter-widgets/base",
            "_view_module_version": "1.2.0",
            "_view_name": "LayoutView",
            "align_content": null,
            "align_items": null,
            "align_self": null,
            "border": null,
            "bottom": null,
            "display": null,
            "flex": null,
            "flex_flow": null,
            "grid_area": null,
            "grid_auto_columns": null,
            "grid_auto_flow": null,
            "grid_auto_rows": null,
            "grid_column": null,
            "grid_gap": null,
            "grid_row": null,
            "grid_template_areas": null,
            "grid_template_columns": null,
            "grid_template_rows": null,
            "height": null,
            "justify_content": null,
            "justify_items": null,
            "left": null,
            "margin": null,
            "max_height": null,
            "max_width": null,
            "min_height": null,
            "min_width": null,
            "object_fit": null,
            "object_position": null,
            "order": null,
            "overflow": null,
            "overflow_x": null,
            "overflow_y": null,
            "padding": null,
            "right": null,
            "top": null,
            "visibility": null,
            "width": null
          }
        },
        "1cc3e83ffd644f7eb1681b9854433672": {
          "model_module": "@jupyter-widgets/controls",
          "model_name": "DescriptionStyleModel",
          "model_module_version": "1.5.0",
          "state": {
            "_model_module": "@jupyter-widgets/controls",
            "_model_module_version": "1.5.0",
            "_model_name": "DescriptionStyleModel",
            "_view_count": null,
            "_view_module": "@jupyter-widgets/base",
            "_view_module_version": "1.2.0",
            "_view_name": "StyleView",
            "description_width": ""
          }
        },
        "c4d53258a4f847b2b51871b447bc8ed9": {
          "model_module": "@jupyter-widgets/base",
          "model_name": "LayoutModel",
          "model_module_version": "1.2.0",
          "state": {
            "_model_module": "@jupyter-widgets/base",
            "_model_module_version": "1.2.0",
            "_model_name": "LayoutModel",
            "_view_count": null,
            "_view_module": "@jupyter-widgets/base",
            "_view_module_version": "1.2.0",
            "_view_name": "LayoutView",
            "align_content": null,
            "align_items": null,
            "align_self": null,
            "border": null,
            "bottom": null,
            "display": null,
            "flex": null,
            "flex_flow": null,
            "grid_area": null,
            "grid_auto_columns": null,
            "grid_auto_flow": null,
            "grid_auto_rows": null,
            "grid_column": null,
            "grid_gap": null,
            "grid_row": null,
            "grid_template_areas": null,
            "grid_template_columns": null,
            "grid_template_rows": null,
            "height": null,
            "justify_content": null,
            "justify_items": null,
            "left": null,
            "margin": null,
            "max_height": null,
            "max_width": null,
            "min_height": null,
            "min_width": null,
            "object_fit": null,
            "object_position": null,
            "order": null,
            "overflow": null,
            "overflow_x": null,
            "overflow_y": null,
            "padding": null,
            "right": null,
            "top": null,
            "visibility": null,
            "width": null
          }
        },
        "b5a759df37414c8db8fe52bbbafda334": {
          "model_module": "@jupyter-widgets/controls",
          "model_name": "ProgressStyleModel",
          "model_module_version": "1.5.0",
          "state": {
            "_model_module": "@jupyter-widgets/controls",
            "_model_module_version": "1.5.0",
            "_model_name": "ProgressStyleModel",
            "_view_count": null,
            "_view_module": "@jupyter-widgets/base",
            "_view_module_version": "1.2.0",
            "_view_name": "StyleView",
            "bar_color": null,
            "description_width": ""
          }
        },
        "d81e45d0d2cc4755b1239eb97256125c": {
          "model_module": "@jupyter-widgets/base",
          "model_name": "LayoutModel",
          "model_module_version": "1.2.0",
          "state": {
            "_model_module": "@jupyter-widgets/base",
            "_model_module_version": "1.2.0",
            "_model_name": "LayoutModel",
            "_view_count": null,
            "_view_module": "@jupyter-widgets/base",
            "_view_module_version": "1.2.0",
            "_view_name": "LayoutView",
            "align_content": null,
            "align_items": null,
            "align_self": null,
            "border": null,
            "bottom": null,
            "display": null,
            "flex": null,
            "flex_flow": null,
            "grid_area": null,
            "grid_auto_columns": null,
            "grid_auto_flow": null,
            "grid_auto_rows": null,
            "grid_column": null,
            "grid_gap": null,
            "grid_row": null,
            "grid_template_areas": null,
            "grid_template_columns": null,
            "grid_template_rows": null,
            "height": null,
            "justify_content": null,
            "justify_items": null,
            "left": null,
            "margin": null,
            "max_height": null,
            "max_width": null,
            "min_height": null,
            "min_width": null,
            "object_fit": null,
            "object_position": null,
            "order": null,
            "overflow": null,
            "overflow_x": null,
            "overflow_y": null,
            "padding": null,
            "right": null,
            "top": null,
            "visibility": null,
            "width": null
          }
        },
        "7d4c41c0378b4922ac97e622c41f9994": {
          "model_module": "@jupyter-widgets/controls",
          "model_name": "DescriptionStyleModel",
          "model_module_version": "1.5.0",
          "state": {
            "_model_module": "@jupyter-widgets/controls",
            "_model_module_version": "1.5.0",
            "_model_name": "DescriptionStyleModel",
            "_view_count": null,
            "_view_module": "@jupyter-widgets/base",
            "_view_module_version": "1.2.0",
            "_view_name": "StyleView",
            "description_width": ""
          }
        }
      }
    }
  },
  "nbformat_minor": 0,
  "nbformat": 4,
  "cells": [
    {
      "source": [
        "\n",
        "# IMPORTANT: RUN THIS CELL IN ORDER TO IMPORT YOUR KAGGLE DATA SOURCES\n",
        "# TO THE CORRECT LOCATION (/kaggle/input) IN YOUR NOTEBOOK,\n",
        "# THEN FEEL FREE TO DELETE THIS CELL.\n",
        "# NOTE: THIS NOTEBOOK ENVIRONMENT DIFFERS FROM KAGGLE'S PYTHON\n",
        "# ENVIRONMENT SO THERE MAY BE MISSING LIBRARIES USED BY YOUR\n",
        "# NOTEBOOK.\n",
        "\n",
        "import os\n",
        "import sys\n",
        "from tempfile import NamedTemporaryFile\n",
        "from urllib.request import urlopen\n",
        "from urllib.parse import unquote, urlparse\n",
        "from urllib.error import HTTPError\n",
        "from zipfile import ZipFile\n",
        "import tarfile\n",
        "import shutil\n",
        "\n",
        "CHUNK_SIZE = 40960\n",
        "DATA_SOURCE_MAPPING = 'net10-20ep1:https%3A%2F%2Fstorage.googleapis.com%2Fkaggle-data-sets%2F4492867%2F7697512%2Fbundle%2Farchive.zip%3FX-Goog-Algorithm%3DGOOG4-RSA-SHA256%26X-Goog-Credential%3Dgcp-kaggle-com%2540kaggle-161607.iam.gserviceaccount.com%252F20240226%252Fauto%252Fstorage%252Fgoog4_request%26X-Goog-Date%3D20240226T105444Z%26X-Goog-Expires%3D259200%26X-Goog-SignedHeaders%3Dhost%26X-Goog-Signature%3D2a5351291c153a0d150820c7fadeaf9031f607c87e7dbb6f3669dc370158ecac879a80b3a87cbb885daa4059235df4aec8508e7956820e6e95ddc645a2cb9955c07086cba953030741d522404d91948d2795f17856955f71570171d35586f70d2d6fba61c1777e355c0c8fae87294ee0b6cd8b9531b34d965bd31669f525f36d9ebd262bcebe55e32dbdffcb05a6d499292e24660680ec79f1ee7f1ff36d99197f3aeb16bb17de71e84a298b2a93066bb27a7c5fa60b4ac7b2d77db1b72f56b9578c3eb07ff77e4b0fa6e2b9efa341a1a7ef1fa46446cb21c3a505a5737866570204bf10a02c16e6c1e3d5de97eaa96901306e6912802f13e788ec4005acab70'\n",
        "\n",
        "KAGGLE_INPUT_PATH='/kaggle/input'\n",
        "KAGGLE_WORKING_PATH='/kaggle/working'\n",
        "KAGGLE_SYMLINK='kaggle'\n",
        "\n",
        "!umount /kaggle/input/ 2> /dev/null\n",
        "shutil.rmtree('/kaggle/input', ignore_errors=True)\n",
        "os.makedirs(KAGGLE_INPUT_PATH, 0o777, exist_ok=True)\n",
        "os.makedirs(KAGGLE_WORKING_PATH, 0o777, exist_ok=True)\n",
        "\n",
        "try:\n",
        "  os.symlink(KAGGLE_INPUT_PATH, os.path.join(\"..\", 'input'), target_is_directory=True)\n",
        "except FileExistsError:\n",
        "  pass\n",
        "try:\n",
        "  os.symlink(KAGGLE_WORKING_PATH, os.path.join(\"..\", 'working'), target_is_directory=True)\n",
        "except FileExistsError:\n",
        "  pass\n",
        "\n",
        "for data_source_mapping in DATA_SOURCE_MAPPING.split(','):\n",
        "    directory, download_url_encoded = data_source_mapping.split(':')\n",
        "    download_url = unquote(download_url_encoded)\n",
        "    filename = urlparse(download_url).path\n",
        "    destination_path = os.path.join(KAGGLE_INPUT_PATH, directory)\n",
        "    try:\n",
        "        with urlopen(download_url) as fileres, NamedTemporaryFile() as tfile:\n",
        "            total_length = fileres.headers['content-length']\n",
        "            print(f'Downloading {directory}, {total_length} bytes compressed')\n",
        "            dl = 0\n",
        "            data = fileres.read(CHUNK_SIZE)\n",
        "            while len(data) > 0:\n",
        "                dl += len(data)\n",
        "                tfile.write(data)\n",
        "                done = int(50 * dl / int(total_length))\n",
        "                sys.stdout.write(f\"\\r[{'=' * done}{' ' * (50-done)}] {dl} bytes downloaded\")\n",
        "                sys.stdout.flush()\n",
        "                data = fileres.read(CHUNK_SIZE)\n",
        "            if filename.endswith('.zip'):\n",
        "              with ZipFile(tfile) as zfile:\n",
        "                zfile.extractall(destination_path)\n",
        "            else:\n",
        "              with tarfile.open(tfile.name) as tarfile:\n",
        "                tarfile.extractall(destination_path)\n",
        "            print(f'\\nDownloaded and uncompressed: {directory}')\n",
        "    except HTTPError as e:\n",
        "        print(f'Failed to load (likely expired) {download_url} to path {destination_path}')\n",
        "        continue\n",
        "    except OSError as e:\n",
        "        print(f'Failed to load {download_url} to path {destination_path}')\n",
        "        continue\n",
        "\n",
        "print('Data source import complete.')\n"
      ],
      "metadata": {
        "id": "twVaOLp2DiI4",
        "outputId": "90e0ec57-407d-42f9-ba64-824fc77d7b05",
        "colab": {
          "base_uri": "https://localhost:8080/"
        }
      },
      "cell_type": "code",
      "outputs": [
        {
          "output_type": "stream",
          "name": "stdout",
          "text": [
            "Downloading net10-20ep1, 85449230 bytes compressed\n",
            "[==================================================] 85449230 bytes downloaded\n",
            "Downloaded and uncompressed: net10-20ep1\n",
            "Data source import complete.\n"
          ]
        }
      ],
      "execution_count": 1
    },
    {
      "cell_type": "code",
      "source": [
        "import os\n",
        "import torch\n",
        "import torchvision\n",
        "import tarfile\n",
        "import torch.nn as nn\n",
        "import numpy as np\n",
        "import torch.nn.functional as F\n",
        "from torchvision.datasets.utils import download_url\n",
        "from torchvision.datasets import ImageFolder\n",
        "from torch.utils.data import DataLoader\n",
        "import torchvision.transforms as tt\n",
        "from torch.utils.data import random_split\n",
        "from torchvision.utils import make_grid\n",
        "import matplotlib\n",
        "import matplotlib.pyplot as plt\n",
        "%matplotlib inline\n",
        "from tqdm.auto import tqdm\n",
        "import copy\n",
        "\n",
        "matplotlib.rcParams['figure.facecolor'] = '#ffffff'"
      ],
      "metadata": {
        "id": "ZSdBL2673KUX",
        "execution": {
          "iopub.status.busy": "2024-02-26T04:08:37.797563Z",
          "iopub.execute_input": "2024-02-26T04:08:37.797944Z",
          "iopub.status.idle": "2024-02-26T04:08:37.808022Z",
          "shell.execute_reply.started": "2024-02-26T04:08:37.797893Z",
          "shell.execute_reply": "2024-02-26T04:08:37.807211Z"
        },
        "trusted": true
      },
      "execution_count": 2,
      "outputs": []
    },
    {
      "cell_type": "code",
      "source": [],
      "metadata": {
        "id": "rt4FEe853KUX",
        "execution": {
          "iopub.status.busy": "2024-02-26T03:36:39.407291Z",
          "iopub.execute_input": "2024-02-26T03:36:39.407637Z",
          "iopub.status.idle": "2024-02-26T03:36:39.411732Z",
          "shell.execute_reply.started": "2024-02-26T03:36:39.407613Z",
          "shell.execute_reply": "2024-02-26T03:36:39.410869Z"
        },
        "trusted": true
      },
      "execution_count": null,
      "outputs": []
    },
    {
      "cell_type": "code",
      "source": [
        "from torchvision.datasets.utils import download_url\n",
        "\n",
        "\n",
        "# Dowload the dataset\n",
        "dataset_url = \"https://s3.amazonaws.com/fast-ai-imageclas/cifar10.tgz\"\n",
        "download_url(dataset_url, '.')\n",
        "\n",
        "# Extract from archive\n",
        "with tarfile.open('./cifar10.tgz', 'r:gz') as tar:\n",
        "    tar.extractall(path='./data')\n",
        "\n",
        "# Look into the data directory\n",
        "data_dir = './data/cifar10'\n",
        "print(os.listdir(data_dir))\n",
        "classes = os.listdir(data_dir + \"/train\")\n",
        "print(classes)"
      ],
      "metadata": {
        "id": "rbNcpumM3KUX",
        "execution": {
          "iopub.status.busy": "2024-02-26T03:36:39.413142Z",
          "iopub.execute_input": "2024-02-26T03:36:39.413393Z",
          "iopub.status.idle": "2024-02-26T03:36:57.018008Z",
          "shell.execute_reply.started": "2024-02-26T03:36:39.413372Z",
          "shell.execute_reply": "2024-02-26T03:36:57.017125Z"
        },
        "trusted": true,
        "colab": {
          "base_uri": "https://localhost:8080/"
        },
        "outputId": "145046a6-d68f-4108-9260-8f39089c7395"
      },
      "execution_count": 3,
      "outputs": [
        {
          "output_type": "stream",
          "name": "stdout",
          "text": [
            "Downloading https://s3.amazonaws.com/fast-ai-imageclas/cifar10.tgz to ./cifar10.tgz\n"
          ]
        },
        {
          "output_type": "stream",
          "name": "stderr",
          "text": [
            "100%|██████████| 135107811/135107811 [00:04<00:00, 29613094.91it/s]\n"
          ]
        },
        {
          "output_type": "stream",
          "name": "stdout",
          "text": [
            "['train', 'test']\n",
            "['dog', 'horse', 'bird', 'ship', 'cat', 'automobile', 'frog', 'truck', 'airplane', 'deer']\n"
          ]
        }
      ]
    },
    {
      "cell_type": "code",
      "source": [
        "# Data transforms for normalization and augmentation\n",
        "stats = ((0.4914, 0.4822, 0.4465), (0.2023, 0.1994, 0.2010))\n",
        "train_tfms = tt.Compose([tt.RandomCrop(32, padding=4, padding_mode='reflect'),\n",
        "                         tt.RandomHorizontalFlip(),\n",
        "                         # tt.RandomRotate\n",
        "                         # tt.RandomResizedCrop(256, scale=(0.5,0.9), ratio=(1, 1)),\n",
        "                         # tt.ColorJitter(brightness=0.1, contrast=0.1, saturation=0.1, hue=0.1),\n",
        "                         tt.ToTensor(),\n",
        "                         tt.Normalize(*stats,inplace=True)])\n",
        "valid_tfms = tt.Compose([tt.ToTensor(), tt.Normalize(*stats)])"
      ],
      "metadata": {
        "id": "TVz0gcdX3KUZ",
        "execution": {
          "iopub.status.busy": "2024-02-26T03:36:57.022799Z",
          "iopub.execute_input": "2024-02-26T03:36:57.02308Z",
          "iopub.status.idle": "2024-02-26T03:36:57.029245Z",
          "shell.execute_reply.started": "2024-02-26T03:36:57.023056Z",
          "shell.execute_reply": "2024-02-26T03:36:57.028283Z"
        },
        "trusted": true
      },
      "execution_count": 4,
      "outputs": []
    },
    {
      "cell_type": "code",
      "source": [
        "# PyTorch datasets\n",
        "train_dataset = ImageFolder(data_dir+'/train', train_tfms)\n",
        "valid_ds = ImageFolder(data_dir+'/test', valid_tfms)"
      ],
      "metadata": {
        "id": "Rnb8LqXT3KUZ",
        "execution": {
          "iopub.status.busy": "2024-02-26T03:36:57.030277Z",
          "iopub.execute_input": "2024-02-26T03:36:57.03059Z",
          "iopub.status.idle": "2024-02-26T03:36:57.340352Z",
          "shell.execute_reply.started": "2024-02-26T03:36:57.030567Z",
          "shell.execute_reply": "2024-02-26T03:36:57.339474Z"
        },
        "trusted": true
      },
      "execution_count": 5,
      "outputs": []
    },
    {
      "cell_type": "code",
      "source": [
        "batch_size = 400"
      ],
      "metadata": {
        "id": "k8fLEcj73KUa",
        "execution": {
          "iopub.status.busy": "2024-02-26T03:36:57.341422Z",
          "iopub.execute_input": "2024-02-26T03:36:57.341696Z",
          "iopub.status.idle": "2024-02-26T03:36:57.346122Z",
          "shell.execute_reply.started": "2024-02-26T03:36:57.341671Z",
          "shell.execute_reply": "2024-02-26T03:36:57.345047Z"
        },
        "trusted": true
      },
      "execution_count": 6,
      "outputs": []
    },
    {
      "cell_type": "code",
      "source": [
        "# PyTorch data loaders\n",
        "train_dataloader = DataLoader(train_dataset, batch_size, shuffle=True, num_workers=3, pin_memory=True)\n",
        "valid_dl = DataLoader(valid_ds, batch_size*2, num_workers=3, pin_memory=True)"
      ],
      "metadata": {
        "id": "kPY8yg543KUa",
        "execution": {
          "iopub.status.busy": "2024-02-26T03:36:57.347702Z",
          "iopub.execute_input": "2024-02-26T03:36:57.348087Z",
          "iopub.status.idle": "2024-02-26T03:36:57.357342Z",
          "shell.execute_reply.started": "2024-02-26T03:36:57.348053Z",
          "shell.execute_reply": "2024-02-26T03:36:57.356437Z"
        },
        "trusted": true,
        "colab": {
          "base_uri": "https://localhost:8080/"
        },
        "outputId": "a4d83c6b-19b4-4be3-dcd5-d3c25bf90256"
      },
      "execution_count": 7,
      "outputs": [
        {
          "output_type": "stream",
          "name": "stderr",
          "text": [
            "/usr/local/lib/python3.10/dist-packages/torch/utils/data/dataloader.py:557: UserWarning: This DataLoader will create 3 worker processes in total. Our suggested max number of worker in current system is 2, which is smaller than what this DataLoader is going to create. Please be aware that excessive worker creation might get DataLoader running slow or even freeze, lower the worker number to avoid potential slowness/freeze if necessary.\n",
            "  warnings.warn(_create_warning_msg(\n"
          ]
        }
      ]
    },
    {
      "cell_type": "code",
      "source": [
        "def denormalize(images, means, stds):\n",
        "    means = torch.tensor(means).reshape(1, 3, 1, 1)\n",
        "    stds = torch.tensor(stds).reshape(1, 3, 1, 1)\n",
        "    return images * stds + means\n",
        "\n",
        "def show_batch(dl):\n",
        "    for images, labels in dl:\n",
        "        fig, ax = plt.subplots(figsize=(12, 12))\n",
        "        ax.set_xticks([]); ax.set_yticks([])\n",
        "        denorm_images = denormalize(images, *stats)\n",
        "        ax.imshow(make_grid(denorm_images[:64], nrow=8).permute(1, 2, 0).clamp(0,1))\n",
        "        break"
      ],
      "metadata": {
        "id": "LaBjAspF3KUb",
        "execution": {
          "iopub.status.busy": "2024-02-26T03:37:00.596938Z",
          "iopub.execute_input": "2024-02-26T03:37:00.597839Z",
          "iopub.status.idle": "2024-02-26T03:37:00.606484Z",
          "shell.execute_reply.started": "2024-02-26T03:37:00.5978Z",
          "shell.execute_reply": "2024-02-26T03:37:00.60536Z"
        },
        "trusted": true
      },
      "execution_count": 8,
      "outputs": []
    },
    {
      "cell_type": "code",
      "source": [
        "show_batch(train_dataloader)"
      ],
      "metadata": {
        "id": "3gTy0EMt3KUb",
        "execution": {
          "iopub.status.busy": "2024-02-26T03:37:04.865794Z",
          "iopub.execute_input": "2024-02-26T03:37:04.866162Z",
          "iopub.status.idle": "2024-02-26T03:37:06.160501Z",
          "shell.execute_reply.started": "2024-02-26T03:37:04.866133Z",
          "shell.execute_reply": "2024-02-26T03:37:06.15949Z"
        },
        "trusted": true,
        "colab": {
          "base_uri": "https://localhost:8080/",
          "height": 961
        },
        "outputId": "b4161356-bd11-42a9-9617-1672b5b97e2d"
      },
      "execution_count": 9,
      "outputs": [
        {
          "output_type": "display_data",
          "data": {
            "text/plain": [
              "<Figure size 1200x1200 with 1 Axes>"
            ],
            "image/png": "[encoded data removed]"
          },
          "metadata": {}
        }
      ]
    },
    {
      "cell_type": "code",
      "source": [
        "def get_default_device():\n",
        "    \"\"\"Pick GPU if available, else CPU\"\"\"\n",
        "    if torch.cuda.is_available():\n",
        "        return torch.device('cuda')\n",
        "    else:\n",
        "        return torch.device('cpu')\n",
        "\n",
        "def to_device(data, device):\n",
        "    \"\"\"Move tensor(s) to chosen device\"\"\"\n",
        "    if isinstance(data, (list,tuple)):\n",
        "        return [to_device(x, device) for x in data]\n",
        "    return data.to(device, non_blocking=True)\n",
        "\n",
        "class DeviceDataLoader():\n",
        "    \"\"\"Wrap a dataloader to move data to a device\"\"\"\n",
        "    def __init__(self, dl, device):\n",
        "        self.dl = dl\n",
        "        self.device = device\n",
        "\n",
        "    def __iter__(self):\n",
        "        \"\"\"Yield a batch of data after moving it to device\"\"\"\n",
        "        for b in self.dl:\n",
        "            yield to_device(b, self.device)\n",
        "\n",
        "    def __len__(self):\n",
        "        \"\"\"Number of batches\"\"\"\n",
        "        return len(self.dl)"
      ],
      "metadata": {
        "id": "x1Cc0r9p3KUc",
        "execution": {
          "iopub.status.busy": "2024-02-26T03:37:06.162187Z",
          "iopub.execute_input": "2024-02-26T03:37:06.162471Z",
          "iopub.status.idle": "2024-02-26T03:37:06.170521Z",
          "shell.execute_reply.started": "2024-02-26T03:37:06.162442Z",
          "shell.execute_reply": "2024-02-26T03:37:06.169624Z"
        },
        "trusted": true
      },
      "execution_count": 10,
      "outputs": []
    },
    {
      "cell_type": "code",
      "source": [],
      "metadata": {
        "id": "4oqhm1geE1xT"
      },
      "execution_count": null,
      "outputs": []
    },
    {
      "cell_type": "markdown",
      "source": [
        "Setting the device as required(CPU/\n",
        "GPU)"
      ],
      "metadata": {
        "id": "BMdyULWT3KUc"
      }
    },
    {
      "cell_type": "code",
      "source": [
        "device = get_default_device()\n",
        "device"
      ],
      "metadata": {
        "id": "Muq1t4gW3KUd",
        "outputId": "cd4b1e03-52db-428c-8ea2-cf91a45696d3",
        "execution": {
          "iopub.status.busy": "2024-02-26T03:37:07.52452Z",
          "iopub.execute_input": "2024-02-26T03:37:07.52514Z",
          "iopub.status.idle": "2024-02-26T03:37:07.530554Z",
          "shell.execute_reply.started": "2024-02-26T03:37:07.52511Z",
          "shell.execute_reply": "2024-02-26T03:37:07.529732Z"
        },
        "trusted": true,
        "colab": {
          "base_uri": "https://localhost:8080/"
        }
      },
      "execution_count": 11,
      "outputs": [
        {
          "output_type": "execute_result",
          "data": {
            "text/plain": [
              "device(type='cuda')"
            ]
          },
          "metadata": {},
          "execution_count": 11
        }
      ]
    },
    {
      "cell_type": "code",
      "source": [
        "train_dataloader = DeviceDataLoader(train_dataloader, device)\n",
        "valid_dl = DeviceDataLoader(valid_dl, device)"
      ],
      "metadata": {
        "id": "PEPfNNGc3KUd",
        "execution": {
          "iopub.status.busy": "2024-02-26T03:37:08.813997Z",
          "iopub.execute_input": "2024-02-26T03:37:08.814638Z",
          "iopub.status.idle": "2024-02-26T03:37:08.818619Z",
          "shell.execute_reply.started": "2024-02-26T03:37:08.814607Z",
          "shell.execute_reply": "2024-02-26T03:37:08.817749Z"
        },
        "trusted": true
      },
      "execution_count": 12,
      "outputs": []
    },
    {
      "cell_type": "code",
      "source": [
        "def accuracy(outputs, labels):\n",
        "    _, preds = torch.max(outputs, dim=1)\n",
        "    return torch.tensor(torch.sum(preds == labels).item() / len(preds))\n",
        "\n",
        "class ImageClassificationBase(nn.Module):\n",
        "    def training_step(self, batch):\n",
        "        images, labels = batch\n",
        "        out = self(images)                  # Generate predictions\n",
        "        loss = F.cross_entropy(out, labels) # Calculate loss\n",
        "        return loss\n",
        "\n",
        "    def validation_step(self, batch):\n",
        "        images, labels = batch\n",
        "        out = self(images)                    # Generate predictions\n",
        "        loss = F.cross_entropy(out, labels)   # Calculate loss\n",
        "        acc = accuracy(out, labels)           # Calculate accuracy\n",
        "        return {'val_loss': loss.detach(), 'val_acc': acc}\n",
        "\n",
        "    def validation_epoch_end(self, outputs):\n",
        "        batch_losses = [x['val_loss'] for x in outputs]\n",
        "        epoch_loss = torch.stack(batch_losses).mean()   # Combine losses\n",
        "        batch_accs = [x['val_acc'] for x in outputs]\n",
        "        epoch_acc = torch.stack(batch_accs).mean()      # Combine accuracies\n",
        "        return {'val_loss': epoch_loss.item(), 'val_acc': epoch_acc.item()}\n",
        "\n",
        "    def epoch_end(self, epoch, result):\n",
        "        print(\"Epoch [{}], last_lr: {:.5f}, train_loss: {:.4f}, val_loss: {:.4f}, val_acc: {:.4f}\".format(\n",
        "            epoch, result['lrs'][-1], result['train_loss'], result['val_loss'], result['val_acc']))"
      ],
      "metadata": {
        "id": "dQI-Dbil3KUf",
        "execution": {
          "iopub.status.busy": "2024-02-26T04:15:30.080094Z",
          "iopub.execute_input": "2024-02-26T04:15:30.080499Z",
          "iopub.status.idle": "2024-02-26T04:15:30.092293Z",
          "shell.execute_reply.started": "2024-02-26T04:15:30.08044Z",
          "shell.execute_reply": "2024-02-26T04:15:30.091287Z"
        },
        "trusted": true
      },
      "execution_count": 13,
      "outputs": []
    },
    {
      "cell_type": "code",
      "source": [
        "def conv_block(in_channels, out_channels, pool=False):\n",
        "    layers = [nn.Conv2d(in_channels, out_channels, kernel_size=3, padding=1),\n",
        "              nn.BatchNorm2d(out_channels),\n",
        "              nn.ReLU(inplace=True)]\n",
        "    if pool: layers.append(nn.MaxPool2d(2))\n",
        "    return nn.Sequential(*layers)\n",
        "\n"
      ],
      "metadata": {
        "id": "dmXWX1aO3KUf",
        "execution": {
          "iopub.status.busy": "2024-02-26T03:37:14.208475Z",
          "iopub.execute_input": "2024-02-26T03:37:14.209175Z",
          "iopub.status.idle": "2024-02-26T03:37:14.219006Z",
          "shell.execute_reply.started": "2024-02-26T03:37:14.209142Z",
          "shell.execute_reply": "2024-02-26T03:37:14.218104Z"
        },
        "trusted": true
      },
      "execution_count": 14,
      "outputs": []
    },
    {
      "cell_type": "code",
      "source": [
        "class Net10(ImageClassificationBase):\n",
        "    def __init__(self, in_channels, num_classes):\n",
        "        super().__init__()\n",
        "\n",
        "        self.conv1 = conv_block(in_channels, 128)  # Increase channels\n",
        "        self.conv2 = conv_block(128, 256, pool=True)  # Increase channels\n",
        "        self.res1 = nn.Sequential(conv_block(256, 256), conv_block(256, 256))\n",
        "\n",
        "        self.conv3 = conv_block(256, 512, pool=True)  # Increase channels\n",
        "        self.conv4 = conv_block(512, 1024, pool=True)  # Increase channels\n",
        "        self.res2 = nn.Sequential(conv_block(1024, 1024), conv_block(1024, 1024))\n",
        "\n",
        "        self.classifier = nn.Sequential(nn.MaxPool2d(4),\n",
        "                                        nn.Flatten(),\n",
        "                                        nn.Dropout(0.2),\n",
        "                                        nn.Linear(1024, 512),  # Increase neurons\n",
        "                                        nn.Linear(512, num_classes))  # Increase\n",
        "    def forward(self, xb):\n",
        "        out = self.conv1(xb)\n",
        "        out = self.conv2(out)\n",
        "        out = self.res1(out) + out\n",
        "        out = self.conv3(out)\n",
        "        out = self.conv4(out)\n",
        "        out = self.res2(out) + out\n",
        "        out = self.classifier(out)\n",
        "        return out"
      ],
      "metadata": {
        "execution": {
          "iopub.status.busy": "2024-02-26T03:37:14.774992Z",
          "iopub.execute_input": "2024-02-26T03:37:14.775339Z",
          "iopub.status.idle": "2024-02-26T03:37:14.785075Z",
          "shell.execute_reply.started": "2024-02-26T03:37:14.775312Z",
          "shell.execute_reply": "2024-02-26T03:37:14.783841Z"
        },
        "trusted": true,
        "id": "2NwcipkkDiJD"
      },
      "execution_count": 15,
      "outputs": []
    },
    {
      "cell_type": "code",
      "source": [
        "model = to_device(Net10(3, 10), device)\n",
        "model"
      ],
      "metadata": {
        "id": "Ryss1Hhm3KUf",
        "outputId": "750e09fc-bd9c-4c2a-961c-b7e51996c41a",
        "execution": {
          "iopub.status.busy": "2024-02-26T03:37:23.364897Z",
          "iopub.execute_input": "2024-02-26T03:37:23.365578Z",
          "iopub.status.idle": "2024-02-26T03:37:23.669024Z",
          "shell.execute_reply.started": "2024-02-26T03:37:23.365548Z",
          "shell.execute_reply": "2024-02-26T03:37:23.66804Z"
        },
        "trusted": true,
        "colab": {
          "base_uri": "https://localhost:8080/"
        }
      },
      "execution_count": 16,
      "outputs": [
        {
          "output_type": "execute_result",
          "data": {
            "text/plain": [
              "Net10(\n",
              "  (conv1): Sequential(\n",
              "    (0): Conv2d(3, 128, kernel_size=(3, 3), stride=(1, 1), padding=(1, 1))\n",
              "    (1): BatchNorm2d(128, eps=1e-05, momentum=0.1, affine=True, track_running_stats=True)\n",
              "    (2): ReLU(inplace=True)\n",
              "  )\n",
              "  (conv2): Sequential(\n",
              "    (0): Conv2d(128, 256, kernel_size=(3, 3), stride=(1, 1), padding=(1, 1))\n",
              "    (1): BatchNorm2d(256, eps=1e-05, momentum=0.1, affine=True, track_running_stats=True)\n",
              "    (2): ReLU(inplace=True)\n",
              "    (3): MaxPool2d(kernel_size=2, stride=2, padding=0, dilation=1, ceil_mode=False)\n",
              "  )\n",
              "  (res1): Sequential(\n",
              "    (0): Sequential(\n",
              "      (0): Conv2d(256, 256, kernel_size=(3, 3), stride=(1, 1), padding=(1, 1))\n",
              "      (1): BatchNorm2d(256, eps=1e-05, momentum=0.1, affine=True, track_running_stats=True)\n",
              "      (2): ReLU(inplace=True)\n",
              "    )\n",
              "    (1): Sequential(\n",
              "      (0): Conv2d(256, 256, kernel_size=(3, 3), stride=(1, 1), padding=(1, 1))\n",
              "      (1): BatchNorm2d(256, eps=1e-05, momentum=0.1, affine=True, track_running_stats=True)\n",
              "      (2): ReLU(inplace=True)\n",
              "    )\n",
              "  )\n",
              "  (conv3): Sequential(\n",
              "    (0): Conv2d(256, 512, kernel_size=(3, 3), stride=(1, 1), padding=(1, 1))\n",
              "    (1): BatchNorm2d(512, eps=1e-05, momentum=0.1, affine=True, track_running_stats=True)\n",
              "    (2): ReLU(inplace=True)\n",
              "    (3): MaxPool2d(kernel_size=2, stride=2, padding=0, dilation=1, ceil_mode=False)\n",
              "  )\n",
              "  (conv4): Sequential(\n",
              "    (0): Conv2d(512, 1024, kernel_size=(3, 3), stride=(1, 1), padding=(1, 1))\n",
              "    (1): BatchNorm2d(1024, eps=1e-05, momentum=0.1, affine=True, track_running_stats=True)\n",
              "    (2): ReLU(inplace=True)\n",
              "    (3): MaxPool2d(kernel_size=2, stride=2, padding=0, dilation=1, ceil_mode=False)\n",
              "  )\n",
              "  (res2): Sequential(\n",
              "    (0): Sequential(\n",
              "      (0): Conv2d(1024, 1024, kernel_size=(3, 3), stride=(1, 1), padding=(1, 1))\n",
              "      (1): BatchNorm2d(1024, eps=1e-05, momentum=0.1, affine=True, track_running_stats=True)\n",
              "      (2): ReLU(inplace=True)\n",
              "    )\n",
              "    (1): Sequential(\n",
              "      (0): Conv2d(1024, 1024, kernel_size=(3, 3), stride=(1, 1), padding=(1, 1))\n",
              "      (1): BatchNorm2d(1024, eps=1e-05, momentum=0.1, affine=True, track_running_stats=True)\n",
              "      (2): ReLU(inplace=True)\n",
              "    )\n",
              "  )\n",
              "  (classifier): Sequential(\n",
              "    (0): MaxPool2d(kernel_size=4, stride=4, padding=0, dilation=1, ceil_mode=False)\n",
              "    (1): Flatten(start_dim=1, end_dim=-1)\n",
              "    (2): Dropout(p=0.2, inplace=False)\n",
              "    (3): Linear(in_features=1024, out_features=512, bias=True)\n",
              "    (4): Linear(in_features=512, out_features=10, bias=True)\n",
              "  )\n",
              ")"
            ]
          },
          "metadata": {},
          "execution_count": 16
        }
      ]
    },
    {
      "cell_type": "markdown",
      "source": [
        "Loading the trained weights that I uploaded in **kaggle** for convienece of loading accorss IDEs"
      ],
      "metadata": {
        "id": "uFh52EoyH1tI"
      }
    },
    {
      "cell_type": "code",
      "source": [
        "weights_path=\"/kaggle/input/net10-20ep1/cifar10-net10-epoch20_weights (1).pth\"\n",
        "weights=torch.load(weights_path)\n",
        "\n",
        "model.load_state_dict(weights)\n",
        "model.eval()"
      ],
      "metadata": {
        "execution": {
          "iopub.status.busy": "2024-02-26T03:45:58.478195Z",
          "iopub.execute_input": "2024-02-26T03:45:58.478973Z",
          "iopub.status.idle": "2024-02-26T03:45:58.585838Z",
          "shell.execute_reply.started": "2024-02-26T03:45:58.478935Z",
          "shell.execute_reply": "2024-02-26T03:45:58.584952Z"
        },
        "trusted": true,
        "id": "xhclObfqDiJE",
        "outputId": "b3e83710-9e32-4510-9e6f-712939af942c",
        "colab": {
          "base_uri": "https://localhost:8080/"
        }
      },
      "execution_count": 17,
      "outputs": [
        {
          "output_type": "execute_result",
          "data": {
            "text/plain": [
              "Net10(\n",
              "  (conv1): Sequential(\n",
              "    (0): Conv2d(3, 128, kernel_size=(3, 3), stride=(1, 1), padding=(1, 1))\n",
              "    (1): BatchNorm2d(128, eps=1e-05, momentum=0.1, affine=True, track_running_stats=True)\n",
              "    (2): ReLU(inplace=True)\n",
              "  )\n",
              "  (conv2): Sequential(\n",
              "    (0): Conv2d(128, 256, kernel_size=(3, 3), stride=(1, 1), padding=(1, 1))\n",
              "    (1): BatchNorm2d(256, eps=1e-05, momentum=0.1, affine=True, track_running_stats=True)\n",
              "    (2): ReLU(inplace=True)\n",
              "    (3): MaxPool2d(kernel_size=2, stride=2, padding=0, dilation=1, ceil_mode=False)\n",
              "  )\n",
              "  (res1): Sequential(\n",
              "    (0): Sequential(\n",
              "      (0): Conv2d(256, 256, kernel_size=(3, 3), stride=(1, 1), padding=(1, 1))\n",
              "      (1): BatchNorm2d(256, eps=1e-05, momentum=0.1, affine=True, track_running_stats=True)\n",
              "      (2): ReLU(inplace=True)\n",
              "    )\n",
              "    (1): Sequential(\n",
              "      (0): Conv2d(256, 256, kernel_size=(3, 3), stride=(1, 1), padding=(1, 1))\n",
              "      (1): BatchNorm2d(256, eps=1e-05, momentum=0.1, affine=True, track_running_stats=True)\n",
              "      (2): ReLU(inplace=True)\n",
              "    )\n",
              "  )\n",
              "  (conv3): Sequential(\n",
              "    (0): Conv2d(256, 512, kernel_size=(3, 3), stride=(1, 1), padding=(1, 1))\n",
              "    (1): BatchNorm2d(512, eps=1e-05, momentum=0.1, affine=True, track_running_stats=True)\n",
              "    (2): ReLU(inplace=True)\n",
              "    (3): MaxPool2d(kernel_size=2, stride=2, padding=0, dilation=1, ceil_mode=False)\n",
              "  )\n",
              "  (conv4): Sequential(\n",
              "    (0): Conv2d(512, 1024, kernel_size=(3, 3), stride=(1, 1), padding=(1, 1))\n",
              "    (1): BatchNorm2d(1024, eps=1e-05, momentum=0.1, affine=True, track_running_stats=True)\n",
              "    (2): ReLU(inplace=True)\n",
              "    (3): MaxPool2d(kernel_size=2, stride=2, padding=0, dilation=1, ceil_mode=False)\n",
              "  )\n",
              "  (res2): Sequential(\n",
              "    (0): Sequential(\n",
              "      (0): Conv2d(1024, 1024, kernel_size=(3, 3), stride=(1, 1), padding=(1, 1))\n",
              "      (1): BatchNorm2d(1024, eps=1e-05, momentum=0.1, affine=True, track_running_stats=True)\n",
              "      (2): ReLU(inplace=True)\n",
              "    )\n",
              "    (1): Sequential(\n",
              "      (0): Conv2d(1024, 1024, kernel_size=(3, 3), stride=(1, 1), padding=(1, 1))\n",
              "      (1): BatchNorm2d(1024, eps=1e-05, momentum=0.1, affine=True, track_running_stats=True)\n",
              "      (2): ReLU(inplace=True)\n",
              "    )\n",
              "  )\n",
              "  (classifier): Sequential(\n",
              "    (0): MaxPool2d(kernel_size=4, stride=4, padding=0, dilation=1, ceil_mode=False)\n",
              "    (1): Flatten(start_dim=1, end_dim=-1)\n",
              "    (2): Dropout(p=0.2, inplace=False)\n",
              "    (3): Linear(in_features=1024, out_features=512, bias=True)\n",
              "    (4): Linear(in_features=512, out_features=10, bias=True)\n",
              "  )\n",
              ")"
            ]
          },
          "metadata": {},
          "execution_count": 17
        }
      ]
    },
    {
      "cell_type": "code",
      "source": [
        "\n",
        "Byte = 8\n",
        "KiB = 1024 * Byte\n",
        "MiB = 1024 * KiB\n",
        "GiB = 1024 * MiB\n",
        "\n",
        "def get_sparsity(tensor: torch.Tensor) -> float:\n",
        "    \"\"\"\n",
        "    calculate the sparsity of the given tensor\n",
        "        sparsity = #zeros / #elements = 1 - #nonzeros / #elements\n",
        "    \"\"\"\n",
        "    return 1 - float(tensor.count_nonzero()) / tensor.numel()\n",
        "\n",
        "\n",
        "def get_model_sparsity(model: nn.Module) -> float:\n",
        "    \"\"\"\n",
        "    calculate the sparsity of the given model\n",
        "        sparsity = #zeros / #elements = 1 - #nonzeros / #elements\n",
        "    \"\"\"\n",
        "    num_nonzeros, num_elements = 0, 0\n",
        "    for param in model.parameters():\n",
        "        num_nonzeros += param.count_nonzero()\n",
        "        num_elements += param.numel()\n",
        "    return 1 - float(num_nonzeros) / num_elements\n",
        "\n",
        "def get_num_parameters(model: nn.Module, count_nonzero_only=False) -> int:\n",
        "    \"\"\"\n",
        "    calculate the total number of parameters of model\n",
        "    :param count_nonzero_only: only count nonzero weights\n",
        "    \"\"\"\n",
        "    num_counted_elements = 0\n",
        "    for param in model.parameters():\n",
        "        if count_nonzero_only:\n",
        "            num_counted_elements += param.count_nonzero()\n",
        "        else:\n",
        "            num_counted_elements += param.numel()\n",
        "    return num_counted_elements\n",
        "\n",
        "\n",
        "def get_model_size(model: nn.Module, data_width=32, count_nonzero_only=False) -> int:\n",
        "    \"\"\"\n",
        "    calculate the model size in bits\n",
        "    :param data_width: #bits per element\n",
        "    :param count_nonzero_only: only count nonzero weights\n",
        "    \"\"\"\n",
        "    return get_num_parameters(model, count_nonzero_only) * data_width"
      ],
      "metadata": {
        "execution": {
          "iopub.status.busy": "2024-02-26T03:37:26.555744Z",
          "iopub.execute_input": "2024-02-26T03:37:26.55648Z",
          "iopub.status.idle": "2024-02-26T03:37:26.565361Z",
          "shell.execute_reply.started": "2024-02-26T03:37:26.556439Z",
          "shell.execute_reply": "2024-02-26T03:37:26.56445Z"
        },
        "trusted": true,
        "id": "ifwEPWvFDiJE"
      },
      "execution_count": 18,
      "outputs": []
    },
    {
      "cell_type": "code",
      "source": [
        "print(f\"Original model size: {get_model_size(model) / MiB:.2f} MiB :{get_model_size(model) / (MiB*1.048576):.2f} MB\"\n",
        ")\n",
        "dense_model_size=get_model_size(model)"
      ],
      "metadata": {
        "execution": {
          "iopub.status.busy": "2024-02-26T03:47:37.26333Z",
          "iopub.execute_input": "2024-02-26T03:47:37.263998Z",
          "iopub.status.idle": "2024-02-26T03:47:37.269385Z",
          "shell.execute_reply.started": "2024-02-26T03:47:37.263969Z",
          "shell.execute_reply": "2024-02-26T03:47:37.268483Z"
        },
        "trusted": true,
        "id": "Z6zUGOPpDiJE",
        "outputId": "0d50c249-dd20-4510-c00e-0be2cf4205ca",
        "colab": {
          "base_uri": "https://localhost:8080/"
        }
      },
      "execution_count": 19,
      "outputs": [
        {
          "output_type": "stream",
          "name": "stdout",
          "text": [
            "Original model size: 102.21 MiB :97.48 MB\n"
          ]
        }
      ]
    },
    {
      "cell_type": "code",
      "source": [
        "@torch.no_grad()\n",
        "def evaluate(model, val_loader):\n",
        "    model.eval()\n",
        "    outputs = [model.validation_step(batch) for batch in val_loader]\n",
        "    return model.validation_epoch_end(outputs)\n",
        "\n",
        "def get_lr(optimizer):\n",
        "    for param_group in optimizer.param_groups:\n",
        "        return param_group['lr']\n",
        "\n",
        "def fit(epochs, max_lr, model, train_loader, val_loader,\n",
        "                  weight_decay=0, grad_clip=None, opt_func=torch.optim.SGD):\n",
        "    torch.cuda.empty_cache()\n",
        "    history = []\n",
        "\n",
        "    # Set up cutom optimizer with weight decay\n",
        "    optimizer = opt_func(model.parameters(), max_lr, weight_decay=weight_decay)\n",
        "    # Set up one-cycle learning rate scheduler\n",
        "    sched = torch.optim.lr_scheduler.OneCycleLR(optimizer, max_lr, epochs=epochs,\n",
        "                                                steps_per_epoch=len(train_loader))\n",
        "\n",
        "    for epoch in range(epochs):\n",
        "        # Training Phase\n",
        "        model.train()\n",
        "        train_losses = []\n",
        "        lrs = []\n",
        "        for batch in train_loader:\n",
        "            loss = model.training_step(batch)\n",
        "            train_losses.append(loss)\n",
        "            loss.backward()\n",
        "\n",
        "            # Gradient clipping\n",
        "            if grad_clip:\n",
        "                nn.utils.clip_grad_value_(model.parameters(), grad_clip)\n",
        "\n",
        "            optimizer.step()\n",
        "            optimizer.zero_grad()\n",
        "\n",
        "            # Record & update learning rate\n",
        "            lrs.append(get_lr(optimizer))\n",
        "            sched.step()\n",
        "\n",
        "        # Validation phase\n",
        "        result = evaluate(model, val_loader)\n",
        "        result['train_loss'] = torch.stack(train_losses).mean().item()\n",
        "        result['lrs'] = lrs\n",
        "        model.epoch_end(epoch, result)\n",
        "        history.append(result)\n",
        "    return history"
      ],
      "metadata": {
        "id": "9y_RiYdt3KUg",
        "execution": {
          "iopub.status.busy": "2024-02-26T03:37:29.015086Z",
          "iopub.execute_input": "2024-02-26T03:37:29.015671Z",
          "iopub.status.idle": "2024-02-26T03:37:29.026698Z",
          "shell.execute_reply.started": "2024-02-26T03:37:29.01564Z",
          "shell.execute_reply": "2024-02-26T03:37:29.025691Z"
        },
        "trusted": true
      },
      "execution_count": 20,
      "outputs": []
    },
    {
      "cell_type": "code",
      "source": [
        "history = [evaluate(model, valid_dl)]\n",
        "history\n",
        "dense_model_accuracy=history[0]['val_acc']\n",
        "print(dense_model_accuracy)"
      ],
      "metadata": {
        "id": "xfPP3dVf3KUg",
        "execution": {
          "iopub.status.busy": "2024-02-26T03:48:40.759872Z",
          "iopub.execute_input": "2024-02-26T03:48:40.760251Z",
          "iopub.status.idle": "2024-02-26T03:48:44.170026Z",
          "shell.execute_reply.started": "2024-02-26T03:48:40.760208Z",
          "shell.execute_reply": "2024-02-26T03:48:44.168748Z"
        },
        "trusted": true,
        "colab": {
          "base_uri": "https://localhost:8080/"
        },
        "outputId": "82c58fec-8990-4cd7-c5d3-ecaed9bc9daa"
      },
      "execution_count": 21,
      "outputs": [
        {
          "output_type": "stream",
          "name": "stdout",
          "text": [
            "0.9181731343269348\n"
          ]
        }
      ]
    },
    {
      "cell_type": "markdown",
      "source": [
        "Parameters such as weights in convolutional layers (conv1, conv2, etc.) and fully connected layers (classifier) are typically **multi-dimensional tensors**.\n",
        "Plotting the distribution of these parameters can provide insights into how the weights are distributed and help analyze their characteristics.\n",
        "\n",
        "\n",
        "By checking **param.dim() > 1**, the code ensures that only parameters with more than one dimension are considered for plotting."
      ],
      "metadata": {
        "id": "eQFnG2_9ItG_"
      }
    },
    {
      "cell_type": "code",
      "source": [
        "def plot_weight_distribution(model, bins=50, count_nonzero_only=False):\n",
        "    \"\"\"\n",
        "    Plot the distribution of weights in the model parameters.\n",
        "\n",
        "    Args:\n",
        "        model (nn.Module): The PyTorch model.\n",
        "        bins (int): Number of bins for the histogram.\n",
        "        count_nonzero_only (bool): Whether to count only nonzero weights.\n",
        "\n",
        "    Returns:\n",
        "        None\n",
        "    \"\"\"\n",
        "    # Create subplots\n",
        "    fig, axes = plt.subplots(3, 4, figsize=(12, 8))\n",
        "    axes = axes.ravel()\n",
        "    plot_index = 0\n",
        "\n",
        "    # Iterate over model parameters\n",
        "    for name, param in model.named_parameters():\n",
        "        # Check if parameter is a weight tensor\n",
        "        if param.dim() > 1:\n",
        "            # Get histogram data\n",
        "            print(name)\n",
        "            if count_nonzero_only:\n",
        "                param_values = param.detach().view(-1).cpu()\n",
        "                param_values = param_values[param_values != 0].view(-1)\n",
        "            else:\n",
        "                param_values = param.detach().view(-1).cpu()\n",
        "\n",
        "            # Plot histogram\n",
        "            ax = axes[plot_index]\n",
        "            ax.hist(param_values, bins=bins, density=True, color='skyblue', alpha=0.7)\n",
        "            ax.set_xlabel('Weight Value')\n",
        "            ax.set_ylabel('Density')\n",
        "            ax.set_title(name)\n",
        "\n",
        "            # Add mean and standard deviation text\n",
        "            mean = param_values.mean().item()\n",
        "            std = param_values.std().item()\n",
        "            ax.text(0.95, 0.95, f'Mean: {mean:.2f}\\nStd: {std:.2f}', transform=ax.transAxes,\n",
        "                    horizontalalignment='right', verticalalignment='top', fontsize=8, bbox=dict(facecolor='white', alpha=0.5))\n",
        "\n",
        "            plot_index += 1\n",
        "\n",
        "    # Adjust layout\n",
        "    fig.suptitle('Distribution of Model Weights', fontsize=16)\n",
        "    fig.tight_layout()\n",
        "    fig.subplots_adjust(top=0.9)\n",
        "    plt.show()\n",
        "\n",
        "# Plot weight distribution\n",
        "plot_weight_distribution(model)\n"
      ],
      "metadata": {
        "execution": {
          "iopub.status.busy": "2024-02-26T03:50:36.838315Z",
          "iopub.execute_input": "2024-02-26T03:50:36.838961Z",
          "iopub.status.idle": "2024-02-26T03:56:11.330948Z",
          "shell.execute_reply.started": "2024-02-26T03:50:36.838928Z",
          "shell.execute_reply": "2024-02-26T03:56:11.329567Z"
        },
        "trusted": true,
        "id": "MrW29IW8DiJF",
        "outputId": "8c5d7eeb-c2d9-4532-b798-688bd7f22ff6",
        "colab": {
          "base_uri": "https://localhost:8080/",
          "height": 980
        }
      },
      "execution_count": 22,
      "outputs": [
        {
          "output_type": "stream",
          "name": "stdout",
          "text": [
            "conv1.0.weight\n",
            "conv2.0.weight\n",
            "res1.0.0.weight\n",
            "res1.1.0.weight\n",
            "conv3.0.weight\n",
            "conv4.0.weight\n",
            "res2.0.0.weight\n",
            "res2.1.0.weight\n",
            "classifier.3.weight\n",
            "classifier.4.weight\n"
          ]
        },
        {
          "output_type": "display_data",
          "data": {
            "text/plain": [
              "<Figure size 1200x800 with 12 Axes>"
            ],
            "image/png": "[encoded data removed]"
          },
          "metadata": {}
        }
      ]
    },
    {
      "cell_type": "code",
      "source": [
        "plt.savefig('weightdist_dense.png')"
      ],
      "metadata": {
        "execution": {
          "iopub.status.busy": "2024-02-26T03:57:37.837527Z",
          "iopub.execute_input": "2024-02-26T03:57:37.83793Z",
          "iopub.status.idle": "2024-02-26T03:57:37.862798Z",
          "shell.execute_reply.started": "2024-02-26T03:57:37.837884Z",
          "shell.execute_reply": "2024-02-26T03:57:37.861963Z"
        },
        "trusted": true,
        "id": "oH3mNCRFDiJG",
        "colab": {
          "base_uri": "https://localhost:8080/",
          "height": 34
        },
        "outputId": "e3b3bf85-c205-4210-c2e0-99021fd966fb"
      },
      "execution_count": 23,
      "outputs": [
        {
          "output_type": "display_data",
          "data": {
            "text/plain": [
              "<Figure size 640x480 with 0 Axes>"
            ]
          },
          "metadata": {}
        }
      ]
    },
    {
      "cell_type": "code",
      "source": [
        "get_model_sparsity(model),"
      ],
      "metadata": {
        "execution": {
          "iopub.status.busy": "2024-02-26T03:57:53.31096Z",
          "iopub.execute_input": "2024-02-26T03:57:53.311322Z",
          "iopub.status.idle": "2024-02-26T03:57:53.326871Z",
          "shell.execute_reply.started": "2024-02-26T03:57:53.311294Z",
          "shell.execute_reply": "2024-02-26T03:57:53.326062Z"
        },
        "trusted": true,
        "id": "J3Mll8kjDiJG",
        "colab": {
          "base_uri": "https://localhost:8080/"
        },
        "outputId": "281b7695-ea41-4f2a-e595-a68d429fd524"
      },
      "execution_count": 24,
      "outputs": [
        {
          "output_type": "execute_result",
          "data": {
            "text/plain": [
              "(1.8660898404299076e-07,)"
            ]
          },
          "metadata": {},
          "execution_count": 24
        }
      ]
    },
    {
      "cell_type": "code",
      "source": [
        "def fine_grained_prune(tensor: torch.Tensor, sparsity: float) -> torch.Tensor:\n",
        "    \"\"\"\n",
        "    Magnitude-based pruning for a single tensor.\n",
        "\n",
        "    Args:\n",
        "        tensor (torch.Tensor): Weight tensor of a convolutional or fully connected layer.\n",
        "        sparsity (float): Pruning sparsity level.\n",
        "            Sparsity = #zeros / #elements = 1 - #nonzeros / #elements.\n",
        "\n",
        "    Returns:\n",
        "        torch.Tensor: Binary mask for pruning (1 for nonzeros, 0 for zeros).\n",
        "    \"\"\"\n",
        "    # Ensure sparsity is within the valid range [0, 1]\n",
        "    sparsity = min(max(0.0, sparsity), 1.0)\n",
        "\n",
        "    # If sparsity is 1.0, prune all weights to zero\n",
        "    if sparsity == 1.0:\n",
        "        tensor.zero_()\n",
        "        return torch.zeros_like(tensor)\n",
        "\n",
        "    # If sparsity is 0.0, no pruning is required\n",
        "    elif sparsity == 0.0:\n",
        "        return torch.ones_like(tensor)\n",
        "\n",
        "    # Calculate the number of zeros to be retained based on sparsity\n",
        "    num_elements = tensor.numel()\n",
        "    num_zeros = round(num_elements * sparsity)\n",
        "\n",
        "    # Calculate the importance of each weight by taking the absolute value\n",
        "    importance = torch.abs(tensor)\n",
        "\n",
        "    # Find the threshold value to retain top-k weights where k = num_zeros\n",
        "    threshold = torch.kthvalue(importance.flatten(), num_zeros)[0]\n",
        "\n",
        "    # Generate a binary mask based on importance compared to threshold\n",
        "    mask = importance > threshold\n",
        "\n",
        "    # Apply the mask to prune the tensor\n",
        "    tensor.mul_(mask)\n",
        "\n",
        "    return mask\n"
      ],
      "metadata": {
        "execution": {
          "iopub.status.busy": "2024-02-26T03:58:46.838483Z",
          "iopub.execute_input": "2024-02-26T03:58:46.838875Z",
          "iopub.status.idle": "2024-02-26T03:58:46.847094Z",
          "shell.execute_reply.started": "2024-02-26T03:58:46.838847Z",
          "shell.execute_reply": "2024-02-26T03:58:46.846173Z"
        },
        "trusted": true,
        "id": "nHXxMP2mDiJG"
      },
      "execution_count": 25,
      "outputs": []
    },
    {
      "cell_type": "code",
      "source": [
        "class FineGrainedPruner:\n",
        "    def __init__(self, model, sparsity_dict):\n",
        "        self.masks = FineGrainedPruner.prune(model, sparsity_dict)\n",
        "\n",
        "    @torch.no_grad()\n",
        "    def apply(self, model):\n",
        "        for name, param in model.named_parameters():\n",
        "            if name in self.masks:\n",
        "                param *= self.masks[name]\n",
        "\n",
        "    @staticmethod\n",
        "    @torch.no_grad()\n",
        "    def prune(model, sparsity_dict):\n",
        "        masks = dict()\n",
        "        for name, param in model.named_parameters():\n",
        "            if param.dim() > 1: # we only prune conv and fc weights\n",
        "                masks[name] = fine_grained_prune(param, sparsity_dict[name])\n",
        "        return masks\n"
      ],
      "metadata": {
        "execution": {
          "iopub.status.busy": "2024-02-26T03:58:49.038956Z",
          "iopub.execute_input": "2024-02-26T03:58:49.039315Z",
          "iopub.status.idle": "2024-02-26T03:58:49.046434Z",
          "shell.execute_reply.started": "2024-02-26T03:58:49.039287Z",
          "shell.execute_reply": "2024-02-26T03:58:49.045521Z"
        },
        "trusted": true,
        "id": "rYJ2IYwADiJG"
      },
      "execution_count": 26,
      "outputs": []
    },
    {
      "cell_type": "code",
      "source": [
        "model.load_state_dict(weights)\n",
        "model.eval()"
      ],
      "metadata": {
        "execution": {
          "iopub.status.busy": "2024-02-26T04:56:11.778275Z",
          "iopub.execute_input": "2024-02-26T04:56:11.779088Z",
          "iopub.status.idle": "2024-02-26T04:56:11.789995Z",
          "shell.execute_reply.started": "2024-02-26T04:56:11.779052Z",
          "shell.execute_reply": "2024-02-26T04:56:11.789076Z"
        },
        "trusted": true,
        "id": "wwUYVMKVDiJG",
        "colab": {
          "base_uri": "https://localhost:8080/"
        },
        "outputId": "0868a9ac-d19d-4160-9d9b-22d612ad1f2c"
      },
      "execution_count": 27,
      "outputs": [
        {
          "output_type": "execute_result",
          "data": {
            "text/plain": [
              "Net10(\n",
              "  (conv1): Sequential(\n",
              "    (0): Conv2d(3, 128, kernel_size=(3, 3), stride=(1, 1), padding=(1, 1))\n",
              "    (1): BatchNorm2d(128, eps=1e-05, momentum=0.1, affine=True, track_running_stats=True)\n",
              "    (2): ReLU(inplace=True)\n",
              "  )\n",
              "  (conv2): Sequential(\n",
              "    (0): Conv2d(128, 256, kernel_size=(3, 3), stride=(1, 1), padding=(1, 1))\n",
              "    (1): BatchNorm2d(256, eps=1e-05, momentum=0.1, affine=True, track_running_stats=True)\n",
              "    (2): ReLU(inplace=True)\n",
              "    (3): MaxPool2d(kernel_size=2, stride=2, padding=0, dilation=1, ceil_mode=False)\n",
              "  )\n",
              "  (res1): Sequential(\n",
              "    (0): Sequential(\n",
              "      (0): Conv2d(256, 256, kernel_size=(3, 3), stride=(1, 1), padding=(1, 1))\n",
              "      (1): BatchNorm2d(256, eps=1e-05, momentum=0.1, affine=True, track_running_stats=True)\n",
              "      (2): ReLU(inplace=True)\n",
              "    )\n",
              "    (1): Sequential(\n",
              "      (0): Conv2d(256, 256, kernel_size=(3, 3), stride=(1, 1), padding=(1, 1))\n",
              "      (1): BatchNorm2d(256, eps=1e-05, momentum=0.1, affine=True, track_running_stats=True)\n",
              "      (2): ReLU(inplace=True)\n",
              "    )\n",
              "  )\n",
              "  (conv3): Sequential(\n",
              "    (0): Conv2d(256, 512, kernel_size=(3, 3), stride=(1, 1), padding=(1, 1))\n",
              "    (1): BatchNorm2d(512, eps=1e-05, momentum=0.1, affine=True, track_running_stats=True)\n",
              "    (2): ReLU(inplace=True)\n",
              "    (3): MaxPool2d(kernel_size=2, stride=2, padding=0, dilation=1, ceil_mode=False)\n",
              "  )\n",
              "  (conv4): Sequential(\n",
              "    (0): Conv2d(512, 1024, kernel_size=(3, 3), stride=(1, 1), padding=(1, 1))\n",
              "    (1): BatchNorm2d(1024, eps=1e-05, momentum=0.1, affine=True, track_running_stats=True)\n",
              "    (2): ReLU(inplace=True)\n",
              "    (3): MaxPool2d(kernel_size=2, stride=2, padding=0, dilation=1, ceil_mode=False)\n",
              "  )\n",
              "  (res2): Sequential(\n",
              "    (0): Sequential(\n",
              "      (0): Conv2d(1024, 1024, kernel_size=(3, 3), stride=(1, 1), padding=(1, 1))\n",
              "      (1): BatchNorm2d(1024, eps=1e-05, momentum=0.1, affine=True, track_running_stats=True)\n",
              "      (2): ReLU(inplace=True)\n",
              "    )\n",
              "    (1): Sequential(\n",
              "      (0): Conv2d(1024, 1024, kernel_size=(3, 3), stride=(1, 1), padding=(1, 1))\n",
              "      (1): BatchNorm2d(1024, eps=1e-05, momentum=0.1, affine=True, track_running_stats=True)\n",
              "      (2): ReLU(inplace=True)\n",
              "    )\n",
              "  )\n",
              "  (classifier): Sequential(\n",
              "    (0): MaxPool2d(kernel_size=4, stride=4, padding=0, dilation=1, ceil_mode=False)\n",
              "    (1): Flatten(start_dim=1, end_dim=-1)\n",
              "    (2): Dropout(p=0.2, inplace=False)\n",
              "    (3): Linear(in_features=1024, out_features=512, bias=True)\n",
              "    (4): Linear(in_features=512, out_features=10, bias=True)\n",
              "  )\n",
              ")"
            ]
          },
          "metadata": {},
          "execution_count": 27
        }
      ]
    },
    {
      "cell_type": "code",
      "source": [
        "@torch.no_grad()\n",
        "def sensitivity_scan(model, dataloader, scan_step=0.1, scan_start=0.4, scan_end=1.0, verbose=True):\n",
        "    sparsities = np.arange(start=scan_start, stop=scan_end, step=scan_step)\n",
        "    accuracies = []\n",
        "    named_conv_weights = [(name, param) for (name, param) \\\n",
        "                          in model.named_parameters() if param.dim() > 1]\n",
        "    for i_layer, (name, param) in enumerate(named_conv_weights):\n",
        "        param_clone = param.detach().clone()\n",
        "        accuracy1 = []\n",
        "        for sparsity in tqdm(sparsities, desc=f'scanning {i_layer}/{len(named_conv_weights)} weight - {name}'):\n",
        "            fine_grained_prune(param.detach(), sparsity=sparsity)\n",
        "            acc = evaluate(model, dataloader)['val_acc']*100\n",
        "            if verbose:\n",
        "                print(f'\\r    sparsity={sparsity:.2f}: accuracy={acc:.2f}%', end='')\n",
        "            # restore\n",
        "            param.copy_(param_clone)\n",
        "            accuracy1.append(acc)\n",
        "        if verbose:\n",
        "            print(f'\\r    sparsity=[{\",\".join([\"{:.2f}\".format(x) for x in sparsities])}]: accuracy=[{\", \".join([\"{:.2f}%\".format(x) for x in accuracy1])}]', end='')\n",
        "        accuracies.append(accuracy1)\n",
        "    return sparsities, accuracies"
      ],
      "metadata": {
        "execution": {
          "iopub.status.busy": "2024-02-26T03:58:51.420028Z",
          "iopub.execute_input": "2024-02-26T03:58:51.420397Z",
          "iopub.status.idle": "2024-02-26T03:58:51.430299Z",
          "shell.execute_reply.started": "2024-02-26T03:58:51.420372Z",
          "shell.execute_reply": "2024-02-26T03:58:51.429285Z"
        },
        "trusted": true,
        "id": "TsLqlKqYDiJG"
      },
      "execution_count": 28,
      "outputs": []
    },
    {
      "cell_type": "code",
      "source": [
        "sparsities, accuracies = sensitivity_scan(\n",
        "    model, valid_dl, scan_step=0.1, scan_start=0.4, scan_end=1.1)"
      ],
      "metadata": {
        "execution": {
          "iopub.status.busy": "2024-02-26T04:56:17.799676Z",
          "iopub.execute_input": "2024-02-26T04:56:17.800055Z",
          "iopub.status.idle": "2024-02-26T05:00:37.49653Z",
          "shell.execute_reply.started": "2024-02-26T04:56:17.800027Z",
          "shell.execute_reply": "2024-02-26T05:00:37.495518Z"
        },
        "trusted": true,
        "id": "qg3YrUvmDiJG",
        "colab": {
          "base_uri": "https://localhost:8080/",
          "height": 214,
          "referenced_widgets": [
            "4d43c91cd1fa4802a0151976d25ddc52",
            "d786680c8ee94041bca7178780306fce",
            "a3d014a47d20490b8c6fd207bd475e94",
            "b0751275f9624947ae10f6051afe34ee",
            "7d1c8711b33b42a290f0ab2954bfe8cd",
            "25aefc08d7fd435cb89d6d13b52648c2",
            "c2b6927f557f402891dc1f88bb243211",
            "ae4651f8b5094da4a1be1bfa40e3f6f6",
            "c12ff9c4cca045b5a2a470878cbd66f3",
            "81f6dc7150494ed786fb9ee32aa9a6b4",
            "15e11584228043b59c7147b94fbb8388",
            "d1cfa7384bcb44c7887eef599cc98a99",
            "feb75af974ac45578711b861f9d1bd47",
            "629c246307c74240ad0102e736ed4f5d",
            "661b5fc182f74f3eb087449554b44849",
            "319b43cb304a40bc91ba2aff80221e37",
            "a6e758077d114687b3b997337b3adfb4",
            "ae3e5b20d8b14786a0055346768dceed",
            "345cb5f4722e41ad889cdae996233ccd",
            "3ac423d1ef9745eba84cbdac7138991a",
            "d8dfd2599cfa4f21b6fce1cf9d0a7f43",
            "1d87f35c752a4debb4c09544495c557f",
            "8a7b47ba66304bcda3e6aa2b99cb3387",
            "7cee81eab3bb4f6b9accd4b008f5c44a",
            "f0f5bdb1a73d448880d77426bcb18d3d",
            "430ee82dcf2e443698643fb3cfdd78bd",
            "87845677aabd401488fcc6deb3af9be3",
            "a410f6f216554a4bbc1465ba41e6e174",
            "fc62afdf7de946e9a200c3ba9c523bb2",
            "2b42b24b7a484e69a306d24ffad8f4b9",
            "6cabbe46ca9749a298ba6c2c1bc5c775",
            "4434f9296a22459a95de07d96a418215",
            "be218758658d4b0b9a78808633f19cf4",
            "3253028086894483a15c8b6a4061f43a",
            "cc228440ffbb41c9b6e3e33f352babfd",
            "e466e68e20ca46fca083329346658850",
            "e22285b31d8b4d05b9cc5d6401045742",
            "24d1fa35b10647dabd03ec6757ee38f0",
            "c733854ebb8f4f49aab688624258ea21",
            "1cc3e83ffd644f7eb1681b9854433672",
            "c4d53258a4f847b2b51871b447bc8ed9",
            "b5a759df37414c8db8fe52bbbafda334",
            "d81e45d0d2cc4755b1239eb97256125c",
            "7d4c41c0378b4922ac97e622c41f9994"
          ]
        },
        "outputId": "cd11f879-bd0c-4a48-a074-27d67f6a5a2d"
      },
      "execution_count": null,
      "outputs": [
        {
          "output_type": "display_data",
          "data": {
            "text/plain": [
              "scanning 0/10 weight - conv1.0.weight:   0%|          | 0/7 [00:00<?, ?it/s]"
            ],
            "application/vnd.jupyter.widget-view+json": {
              "version_major": 2,
              "version_minor": 0,
              "model_id": "4d43c91cd1fa4802a0151976d25ddc52"
            }
          },
          "metadata": {}
        },
        {
          "output_type": "stream",
          "name": "stdout",
          "text": [
            "    sparsity=[0.40,0.50,0.60,0.70,0.80,0.90,1.00]: accuracy=[91.82%, 91.81%, 91.69%, 91.54%, 90.75%, 79.95%, 9.62%]"
          ]
        },
        {
          "output_type": "display_data",
          "data": {
            "text/plain": [
              "scanning 1/10 weight - conv2.0.weight:   0%|          | 0/7 [00:00<?, ?it/s]"
            ],
            "application/vnd.jupyter.widget-view+json": {
              "version_major": 2,
              "version_minor": 0,
              "model_id": "d1cfa7384bcb44c7887eef599cc98a99"
            }
          },
          "metadata": {}
        },
        {
          "output_type": "stream",
          "name": "stdout",
          "text": [
            "    sparsity=[0.40,0.50,0.60,0.70,0.80,0.90,1.00]: accuracy=[91.82%, 91.82%, 91.82%, 91.82%, 91.80%, 91.77%, 9.62%]"
          ]
        },
        {
          "output_type": "display_data",
          "data": {
            "text/plain": [
              "scanning 2/10 weight - res1.0.0.weight:   0%|          | 0/7 [00:00<?, ?it/s]"
            ],
            "application/vnd.jupyter.widget-view+json": {
              "version_major": 2,
              "version_minor": 0,
              "model_id": "8a7b47ba66304bcda3e6aa2b99cb3387"
            }
          },
          "metadata": {}
        },
        {
          "output_type": "stream",
          "name": "stdout",
          "text": [
            "    sparsity=[0.40,0.50,0.60,0.70,0.80,0.90,1.00]: accuracy=[91.82%, 91.82%, 91.82%, 91.82%, 91.82%, 91.81%, 39.23%]"
          ]
        },
        {
          "output_type": "display_data",
          "data": {
            "text/plain": [
              "scanning 3/10 weight - res1.1.0.weight:   0%|          | 0/7 [00:00<?, ?it/s]"
            ],
            "application/vnd.jupyter.widget-view+json": {
              "version_major": 2,
              "version_minor": 0,
              "model_id": "3253028086894483a15c8b6a4061f43a"
            }
          },
          "metadata": {}
        },
        {
          "output_type": "stream",
          "name": "stdout",
          "text": [
            "    sparsity=0.90: accuracy=91.82%"
          ]
        }
      ]
    },
    {
      "cell_type": "code",
      "source": [
        "def plot_sensitivity_scan(sparsities, accuracies, dense_model_accuracy):\n",
        "    lower_bound_accuracy = 100 - (100 - dense_model_accuracy) * 1.5\n",
        "    fig, axes = plt.subplots(3, int(math.ceil(len(accuracies) / 3)),figsize=(15,8))\n",
        "    axes = axes.ravel()\n",
        "    plot_index = 0\n",
        "    for name, param in model.named_parameters():\n",
        "        if param.dim() > 1:\n",
        "            ax = axes[plot_index]\n",
        "            curve = ax.plot(sparsities, accuracies[plot_index])\n",
        "            line = ax.plot(sparsities, [lower_bound_accuracy] * len(sparsities))\n",
        "            ax.set_xticks(np.arange(start=0.4, stop=1.0, step=0.1))\n",
        "            ax.set_ylim(80, 95)\n",
        "            ax.set_title(name)\n",
        "            ax.set_xlabel('sparsity')\n",
        "            ax.set_ylabel('top-1 accuracy')\n",
        "            ax.legend([\n",
        "                'accuracy after pruning',\n",
        "                f'{lower_bound_accuracy / dense_model_accuracy * 100:.0f}% of dense model accuracy'\n",
        "            ])\n",
        "            ax.grid(axis='x')\n",
        "            plot_index += 1\n",
        "    fig.suptitle('Sensitivity Curves: Validation Accuracy vs. Pruning Sparsity')\n",
        "    fig.tight_layout()\n",
        "    fig.subplots_adjust(top=0.925)\n",
        "    plt.show()"
      ],
      "metadata": {
        "execution": {
          "iopub.status.busy": "2024-02-26T05:02:30.219099Z",
          "iopub.execute_input": "2024-02-26T05:02:30.219815Z",
          "iopub.status.idle": "2024-02-26T05:02:30.229274Z",
          "shell.execute_reply.started": "2024-02-26T05:02:30.219785Z",
          "shell.execute_reply": "2024-02-26T05:02:30.228203Z"
        },
        "trusted": true,
        "id": "5KCIy0icDiJG"
      },
      "execution_count": null,
      "outputs": []
    },
    {
      "cell_type": "code",
      "source": [
        "plot_sensitivity_scan(sparsities, accuracies, dense_model_accuracy*100)\n"
      ],
      "metadata": {
        "execution": {
          "iopub.status.busy": "2024-02-26T05:02:32.331437Z",
          "iopub.execute_input": "2024-02-26T05:02:32.332098Z",
          "iopub.status.idle": "2024-02-26T05:02:35.19973Z",
          "shell.execute_reply.started": "2024-02-26T05:02:32.332067Z",
          "shell.execute_reply": "2024-02-26T05:02:35.198882Z"
        },
        "trusted": true,
        "id": "Ef-Un4SsDiJG"
      },
      "execution_count": null,
      "outputs": []
    },
    {
      "cell_type": "code",
      "source": [
        "def plot_num_parameters_distribution(model):\n",
        "    num_parameters = dict()\n",
        "    for name, param in model.named_parameters():\n",
        "        if param.dim() > 1:\n",
        "            num_parameters[name] = param.numel()\n",
        "    fig = plt.figure(figsize=(8, 6))\n",
        "    plt.grid(axis='y')\n",
        "    plt.bar(list(num_parameters.keys()), list(num_parameters.values()))\n",
        "    plt.title('#Parameter Distribution')\n",
        "    plt.ylabel('Number of Parameters')\n",
        "    plt.xticks(rotation=60)\n",
        "    plt.tight_layout()\n",
        "    plt.show()\n",
        "\n",
        "plot_num_parameters_distribution(model)"
      ],
      "metadata": {
        "execution": {
          "iopub.status.busy": "2024-02-26T04:00:15.381672Z",
          "iopub.execute_input": "2024-02-26T04:00:15.382071Z",
          "iopub.status.idle": "2024-02-26T04:00:15.634525Z",
          "shell.execute_reply.started": "2024-02-26T04:00:15.382039Z",
          "shell.execute_reply": "2024-02-26T04:00:15.633565Z"
        },
        "trusted": true,
        "id": "0vlydJ3lDiJG"
      },
      "execution_count": null,
      "outputs": []
    },
    {
      "cell_type": "code",
      "source": [
        "for name, param in model.named_parameters():\n",
        "        if param.dim() > 1:\n",
        "            print(name)"
      ],
      "metadata": {
        "execution": {
          "iopub.status.busy": "2024-02-26T04:01:19.252057Z",
          "iopub.execute_input": "2024-02-26T04:01:19.25244Z",
          "iopub.status.idle": "2024-02-26T04:01:19.258221Z",
          "shell.execute_reply.started": "2024-02-26T04:01:19.25241Z",
          "shell.execute_reply": "2024-02-26T04:01:19.257283Z"
        },
        "trusted": true,
        "id": "NHC8KPTfDiJH"
      },
      "execution_count": null,
      "outputs": []
    },
    {
      "cell_type": "code",
      "source": [
        "model.load_state_dict(weights)\n",
        "sparsity_dict ={\n",
        "    'conv1.0.weight': 0.6,\n",
        "    'conv2.0.weight': 0.9,\n",
        "    'res1.0.0.weight': 0.9,\n",
        "    'res1.1.0.weight': 0.9,\n",
        "    'conv3.0.weight': 0.9,\n",
        "    'conv4.0.weight': 0.9,\n",
        "    'res2.0.0.weight': 0.9,\n",
        "    'res2.1.0.weight': 0.9,\n",
        "    'classifier.3.weight': 0.9,\n",
        "    'classifier.4.weight': 0.9\n",
        "}\n"
      ],
      "metadata": {
        "execution": {
          "iopub.status.busy": "2024-02-26T04:02:49.014849Z",
          "iopub.execute_input": "2024-02-26T04:02:49.015251Z",
          "iopub.status.idle": "2024-02-26T04:02:49.023675Z",
          "shell.execute_reply.started": "2024-02-26T04:02:49.015222Z",
          "shell.execute_reply": "2024-02-26T04:02:49.022791Z"
        },
        "trusted": true,
        "id": "5VTzpaBvDiJQ"
      },
      "execution_count": null,
      "outputs": []
    },
    {
      "cell_type": "code",
      "source": [
        "pruner = FineGrainedPruner(model, sparsity_dict)\n",
        "print(f'After pruning with sparsity dictionary')\n",
        "for name, sparsity in sparsity_dict.items():\n",
        "    print(f'  {name}: {sparsity:.2f}')\n",
        "print(f'The sparsity of each layer becomes')\n",
        "for name, param in model.named_parameters():\n",
        "    if name in sparsity_dict:\n",
        "        print(f'  {name}: {get_sparsity(param):.2f}')\n",
        "\n",
        "sparse_model_size = get_model_size(model, count_nonzero_only=True)\n",
        "print(f\"Sparse model has size={sparse_model_size / MiB:.2f} MiB = {sparse_model_size / dense_model_size * 100:.2f}% of dense model size\")\n",
        "sparse_model_accuracy = evaluate(model, valid_dl)['val_acc']\n",
        "print(f\"Sparse model has accuracy={sparse_model_accuracy:.4f}% before fintuning\")\n",
        "\n",
        "plot_weight_distribution(model, count_nonzero_only=True)"
      ],
      "metadata": {
        "execution": {
          "iopub.status.busy": "2024-02-26T05:11:36.385359Z",
          "iopub.execute_input": "2024-02-26T05:11:36.386335Z",
          "iopub.status.idle": "2024-02-26T05:11:53.027289Z",
          "shell.execute_reply.started": "2024-02-26T05:11:36.386283Z",
          "shell.execute_reply": "2024-02-26T05:11:53.025831Z"
        },
        "trusted": true,
        "id": "WIksemTMDiJQ"
      },
      "execution_count": null,
      "outputs": []
    },
    {
      "cell_type": "code",
      "source": [
        "plt.savefig('weightdist_sparse.png')"
      ],
      "metadata": {
        "execution": {
          "iopub.status.busy": "2024-02-26T04:05:16.846645Z",
          "iopub.execute_input": "2024-02-26T04:05:16.847067Z",
          "iopub.status.idle": "2024-02-26T04:05:16.871546Z",
          "shell.execute_reply.started": "2024-02-26T04:05:16.847033Z",
          "shell.execute_reply": "2024-02-26T04:05:16.870552Z"
        },
        "trusted": true,
        "id": "-TaAdecqDiJQ"
      },
      "execution_count": null,
      "outputs": []
    },
    {
      "cell_type": "code",
      "source": [
        "from torch.optim import Optimizer\n",
        "from torch.optim.lr_scheduler import LambdaLR\n",
        "def train(\n",
        "  model: nn.Module,\n",
        "  dataloader: DataLoader,\n",
        "  criterion: nn.Module,\n",
        "  optimizer: Optimizer,\n",
        "  scheduler: LambdaLR,\n",
        "  callbacks = None\n",
        ") -> None:\n",
        "  model.train()\n",
        "\n",
        "  for inputs, targets in tqdm(dataloader, desc='train', leave=False):\n",
        "    # Move the data from CPU to GPU\n",
        "    inputs = inputs.cuda()\n",
        "    targets = targets.cuda()\n",
        "\n",
        "    # Reset the gradients (from the last iteration)\n",
        "    optimizer.zero_grad()\n",
        "\n",
        "    # Forward inference\n",
        "    outputs = model(inputs)\n",
        "    loss = criterion(outputs, targets)\n",
        "\n",
        "    # Backward propagation\n",
        "    loss.backward()\n",
        "\n",
        "    # Update optimizer and LR scheduler\n",
        "    optimizer.step()\n",
        "    scheduler.step()\n",
        "\n",
        "    if callbacks is not None:\n",
        "        for callback in callbacks:\n",
        "            callback()\n"
      ],
      "metadata": {
        "execution": {
          "iopub.status.busy": "2024-02-26T04:07:17.746249Z",
          "iopub.execute_input": "2024-02-26T04:07:17.746616Z",
          "iopub.status.idle": "2024-02-26T04:07:17.754318Z",
          "shell.execute_reply.started": "2024-02-26T04:07:17.746587Z",
          "shell.execute_reply": "2024-02-26T04:07:17.753248Z"
        },
        "trusted": true,
        "id": "j9M-tt2tDiJQ"
      },
      "execution_count": null,
      "outputs": []
    },
    {
      "cell_type": "code",
      "source": [
        "\n",
        "\n"
      ],
      "metadata": {
        "execution": {
          "iopub.status.busy": "2024-02-26T04:10:40.404007Z",
          "iopub.execute_input": "2024-02-26T04:10:40.404781Z",
          "iopub.status.idle": "2024-02-26T04:10:40.408946Z",
          "shell.execute_reply.started": "2024-02-26T04:10:40.404745Z",
          "shell.execute_reply": "2024-02-26T04:10:40.407962Z"
        },
        "trusted": true,
        "id": "4ZdhutTRDiJQ"
      },
      "execution_count": null,
      "outputs": []
    },
    {
      "cell_type": "code",
      "source": [
        "num_finetune_epochs = 10\n",
        "optimizer = torch.optim.SGD(model.parameters(), lr=0.01, momentum=0.9, weight_decay=1e-4)\n",
        "scheduler = torch.optim.lr_scheduler.CosineAnnealingLR(optimizer, num_finetune_epochs)\n",
        "criterion = nn.CrossEntropyLoss()\n",
        "\n",
        "best_sparse_model_checkpoint = dict()\n",
        "best_accuracy = 0\n",
        "print(f'Finetuning Fine-grained Pruned Sparse Model')\n",
        "for epoch in range(num_finetune_epochs):\n",
        "    # At the end of each train iteration, we have to apply the pruning mask\n",
        "    #    to keep the model sparse during the training\n",
        "    train(model, train_dataloader, criterion, optimizer, scheduler,\n",
        "          callbacks=[lambda: pruner.apply(model)])\n",
        "    pruned_accuracy = evaluate(model,valid_dl)['val_acc']*100\n",
        "    is_best = pruned_accuracy > best_accuracy\n",
        "    if is_best:\n",
        "        best_sparse_model_checkpoint['state_dict'] = copy.deepcopy(model.state_dict())\n",
        "        best_accuracy = pruned_accuracy\n",
        "    print(f'    Epoch {epoch+1} Accuracy {pruned_accuracy:.2f}% / Best Accuracy: {best_accuracy:.2f}%')"
      ],
      "metadata": {
        "trusted": true,
        "id": "Rm8kyNoSDiJQ"
      },
      "execution_count": null,
      "outputs": []
    },
    {
      "cell_type": "code",
      "source": [
        "# load the best sparse model checkpoint to evaluate the final performance\n",
        "model.load_state_dict(best_sparse_model_checkpoint['state_dict'])\n",
        "sparse_model_size = get_model_size(model, count_nonzero_only=True)\n",
        "print(f\"Sparse model has size={sparse_model_size / MiB:.2f} MiB = {sparse_model_size / dense_model_size * 100:.2f}% of dense model size\")\n",
        "sparse_model_accuracy = evaluate(model,valid_dl)['val_acc']\n",
        "print(f\"Sparse model has accuracy={sparse_model_accuracy:.4f}% after fintuning\")\n",
        "torch.save(model.state_dict(), f'/kaggle/working/{name}sparse_weights.pth')"
      ],
      "metadata": {
        "trusted": true,
        "id": "iSYyqBKMDiJR"
      },
      "execution_count": null,
      "outputs": []
    },
    {
      "cell_type": "code",
      "source": [
        "print(\"--\")"
      ],
      "metadata": {
        "execution": {
          "iopub.status.busy": "2024-02-26T10:45:00.997083Z",
          "iopub.execute_input": "2024-02-26T10:45:00.998014Z",
          "iopub.status.idle": "2024-02-26T10:45:01.002743Z",
          "shell.execute_reply.started": "2024-02-26T10:45:00.997979Z",
          "shell.execute_reply": "2024-02-26T10:45:01.001722Z"
        },
        "trusted": true,
        "id": "1Jv2Dz1sDiJR",
        "outputId": "b1d0d5eb-324a-4c15-c6d5-3b1ed7a90e0f"
      },
      "execution_count": null,
      "outputs": [
        {
          "name": "stdout",
          "text": "--\n",
          "output_type": "stream"
        }
      ]
    },
    {
      "cell_type": "code",
      "source": [
        "epochs = 1\n",
        "max_lr = 0.01\n",
        "grad_clip = 0.1\n",
        "weight_decay = 1e-4\n",
        "opt_func = torch.optim.Adam"
      ],
      "metadata": {
        "id": "h-sJuE2G3KUi",
        "execution": {
          "iopub.status.busy": "2024-02-25T09:24:09.081343Z",
          "iopub.execute_input": "2024-02-25T09:24:09.081716Z",
          "iopub.status.idle": "2024-02-25T09:24:09.086797Z",
          "shell.execute_reply.started": "2024-02-25T09:24:09.081687Z",
          "shell.execute_reply": "2024-02-25T09:24:09.085659Z"
        },
        "trusted": true
      },
      "execution_count": null,
      "outputs": []
    },
    {
      "cell_type": "code",
      "source": [
        "%%time\n",
        "history += fit(epochs, max_lr, model, train_dataloader, valid_dl,\n",
        "                             grad_clip=grad_clip,\n",
        "                             weight_decay=weight_decay,\n",
        "                             opt_func=opt_func)"
      ],
      "metadata": {
        "id": "Y387SMt03KUi",
        "execution": {
          "iopub.status.busy": "2024-02-25T09:24:09.365659Z",
          "iopub.execute_input": "2024-02-25T09:24:09.366004Z",
          "iopub.status.idle": "2024-02-25T09:29:44.559568Z",
          "shell.execute_reply.started": "2024-02-25T09:24:09.365979Z",
          "shell.execute_reply": "2024-02-25T09:29:44.558416Z"
        },
        "trusted": true
      },
      "execution_count": null,
      "outputs": []
    },
    {
      "cell_type": "code",
      "source": [
        "name='cifar10-net10'"
      ],
      "metadata": {
        "id": "TJwhl01q3KUj",
        "execution": {
          "iopub.status.busy": "2024-02-25T09:30:14.862433Z",
          "iopub.execute_input": "2024-02-25T09:30:14.862829Z",
          "iopub.status.idle": "2024-02-25T09:30:14.872521Z",
          "shell.execute_reply.started": "2024-02-25T09:30:14.862794Z",
          "shell.execute_reply": "2024-02-25T09:30:14.871275Z"
        },
        "trusted": true
      },
      "execution_count": null,
      "outputs": []
    },
    {
      "cell_type": "code",
      "source": [
        "def plot_accuracies(history):\n",
        "    accuracies = [x['val_acc'] for x in history]\n",
        "    plt.plot(accuracies, '-x')\n",
        "    plt.xlabel('epoch')\n",
        "    plt.ylabel('accuracy')\n",
        "    plt.title('Accuracy vs. No. of epochs');"
      ],
      "metadata": {
        "id": "ZwxUEVle3KUj",
        "execution": {
          "iopub.status.busy": "2024-02-25T09:30:16.681396Z",
          "iopub.execute_input": "2024-02-25T09:30:16.682141Z",
          "iopub.status.idle": "2024-02-25T09:30:16.688507Z",
          "shell.execute_reply.started": "2024-02-25T09:30:16.682108Z",
          "shell.execute_reply": "2024-02-25T09:30:16.687006Z"
        },
        "trusted": true
      },
      "execution_count": null,
      "outputs": []
    },
    {
      "cell_type": "code",
      "source": [
        "plot_accuracies(history)\n",
        "plt.savefig(f'/kaggle/working/{name}plot.png')\n",
        "\n",
        "# Save model weights\n",
        "torch.save(model.state_dict(), f'/kaggle/working/{name}_weights.pth')"
      ],
      "metadata": {
        "id": "p8jtB6Hb3KUj",
        "execution": {
          "iopub.status.busy": "2024-02-25T09:30:18.950165Z",
          "iopub.execute_input": "2024-02-25T09:30:18.950892Z",
          "iopub.status.idle": "2024-02-25T09:30:19.563345Z",
          "shell.execute_reply.started": "2024-02-25T09:30:18.950861Z",
          "shell.execute_reply": "2024-02-25T09:30:19.562393Z"
        },
        "trusted": true
      },
      "execution_count": null,
      "outputs": []
    },
    {
      "cell_type": "code",
      "source": [
        "def plot_losses(history):\n",
        "    train_losses = [x.get('train_loss') for x in history]\n",
        "    val_losses = [x['val_loss'] for x in history]\n",
        "    plt.plot(train_losses, '-bx')\n",
        "    plt.plot(val_losses, '-rx')\n",
        "    plt.xlabel('epoch')\n",
        "    plt.ylabel('loss')\n",
        "    plt.legend(['Training', 'Validation'])\n",
        "    plt.title('Loss vs. No. of epochs');"
      ],
      "metadata": {
        "id": "jLOqvY0M3KUk",
        "execution": {
          "iopub.status.busy": "2024-02-25T09:30:27.131258Z",
          "iopub.execute_input": "2024-02-25T09:30:27.131631Z",
          "iopub.status.idle": "2024-02-25T09:30:27.137704Z",
          "shell.execute_reply.started": "2024-02-25T09:30:27.131602Z",
          "shell.execute_reply": "2024-02-25T09:30:27.136771Z"
        },
        "trusted": true
      },
      "execution_count": null,
      "outputs": []
    },
    {
      "cell_type": "code",
      "source": [
        "plot_losses(history)"
      ],
      "metadata": {
        "id": "6tyQvu4j3KUk",
        "execution": {
          "iopub.status.busy": "2024-02-25T09:30:30.382769Z",
          "iopub.execute_input": "2024-02-25T09:30:30.383217Z",
          "iopub.status.idle": "2024-02-25T09:30:30.695673Z",
          "shell.execute_reply.started": "2024-02-25T09:30:30.383169Z",
          "shell.execute_reply": "2024-02-25T09:30:30.69448Z"
        },
        "trusted": true
      },
      "execution_count": null,
      "outputs": []
    },
    {
      "cell_type": "code",
      "source": [
        "def plot_lrs(history):\n",
        "    lrs = np.concatenate([x.get('lrs', []) for x in history])\n",
        "    plt.plot(lrs)\n",
        "    plt.xlabel('Batch no.')\n",
        "    plt.ylabel('Learning rate')\n",
        "    plt.title('Learning Rate vs. Batch no.');"
      ],
      "metadata": {
        "id": "T_pJQ2dn3KUl",
        "execution": {
          "iopub.status.busy": "2024-02-25T09:30:46.693214Z",
          "iopub.execute_input": "2024-02-25T09:30:46.693607Z",
          "iopub.status.idle": "2024-02-25T09:30:46.699141Z",
          "shell.execute_reply.started": "2024-02-25T09:30:46.693564Z",
          "shell.execute_reply": "2024-02-25T09:30:46.698151Z"
        },
        "trusted": true
      },
      "execution_count": null,
      "outputs": []
    },
    {
      "cell_type": "code",
      "source": [
        "plot_lrs(history)"
      ],
      "metadata": {
        "id": "BXoBkGE03KUl",
        "execution": {
          "iopub.status.busy": "2024-02-25T09:30:50.05569Z",
          "iopub.execute_input": "2024-02-25T09:30:50.056085Z",
          "iopub.status.idle": "2024-02-25T09:30:50.281905Z",
          "shell.execute_reply.started": "2024-02-25T09:30:50.056053Z",
          "shell.execute_reply": "2024-02-25T09:30:50.281023Z"
        },
        "trusted": true
      },
      "execution_count": null,
      "outputs": []
    },
    {
      "cell_type": "markdown",
      "source": [
        "## Testin individual images\n",
        "\n",
        "\n",
        "\n"
      ],
      "metadata": {
        "id": "uFwYdlWxCN0M"
      }
    },
    {
      "cell_type": "code",
      "source": [
        "def predict_image(img, model):\n",
        "    # Convert to a batch of 1\n",
        "    xb = to_device(img.unsqueeze(0), device)\n",
        "    # Get predictions from model\n",
        "    yb = model(xb)\n",
        "    # Pick index with highest probability\n",
        "    _, preds  = torch.max(yb, dim=1)\n",
        "    # Retrieve the class label\n",
        "    return train_dataset.classes[preds[0].item()]"
      ],
      "metadata": {
        "id": "k5FLM-VrCWQ-",
        "execution": {
          "iopub.status.busy": "2024-02-25T09:12:21.371496Z",
          "iopub.execute_input": "2024-02-25T09:12:21.372237Z",
          "iopub.status.idle": "2024-02-25T09:12:21.377707Z",
          "shell.execute_reply.started": "2024-02-25T09:12:21.372205Z",
          "shell.execute_reply": "2024-02-25T09:12:21.37663Z"
        },
        "trusted": true
      },
      "execution_count": null,
      "outputs": []
    },
    {
      "cell_type": "code",
      "source": [
        "img, label = valid_ds[0]\n",
        "plt.imshow(img.permute(1, 2, 0).clamp(0, 1))\n",
        "print('Label:', train_dataset.classes[label], ', Predicted:', predict_image(img, model))"
      ],
      "metadata": {
        "id": "-Asrb2CjCZzv",
        "execution": {
          "iopub.status.busy": "2024-02-25T09:12:21.874171Z",
          "iopub.execute_input": "2024-02-25T09:12:21.874532Z",
          "iopub.status.idle": "2024-02-25T09:12:22.108407Z",
          "shell.execute_reply.started": "2024-02-25T09:12:21.874505Z",
          "shell.execute_reply": "2024-02-25T09:12:22.107528Z"
        },
        "trusted": true
      },
      "execution_count": null,
      "outputs": []
    },
    {
      "cell_type": "code",
      "source": [
        "img, label = valid_ds[1002]\n",
        "plt.imshow(img.permute(1, 2, 0))\n",
        "print('Label:', valid_ds.classes[label], ', Predicted:', predict_image(img, model))"
      ],
      "metadata": {
        "id": "u0rmk1WjCcPy",
        "execution": {
          "iopub.status.busy": "2024-02-25T09:12:23.629513Z",
          "iopub.execute_input": "2024-02-25T09:12:23.629873Z",
          "iopub.status.idle": "2024-02-25T09:12:23.826031Z",
          "shell.execute_reply.started": "2024-02-25T09:12:23.629844Z",
          "shell.execute_reply": "2024-02-25T09:12:23.825138Z"
        },
        "trusted": true
      },
      "execution_count": null,
      "outputs": []
    },
    {
      "cell_type": "code",
      "source": [
        "img, label = valid_ds[6153]\n",
        "plt.imshow(img.permute(1, 2, 0))\n",
        "print('Label:', train_dataset.classes[label], ', Predicted:', predict_image(img, model))"
      ],
      "metadata": {
        "id": "u5LAdSLZC5j9",
        "execution": {
          "iopub.status.busy": "2024-02-25T09:12:23.887429Z",
          "iopub.execute_input": "2024-02-25T09:12:23.887741Z",
          "iopub.status.idle": "2024-02-25T09:12:24.075159Z",
          "shell.execute_reply.started": "2024-02-25T09:12:23.887715Z",
          "shell.execute_reply": "2024-02-25T09:12:24.07428Z"
        },
        "trusted": true
      },
      "execution_count": null,
      "outputs": []
    },
    {
      "cell_type": "code",
      "source": [],
      "metadata": {
        "id": "u0j7iGi33KUl"
      },
      "execution_count": null,
      "outputs": []
    }
  ]
}